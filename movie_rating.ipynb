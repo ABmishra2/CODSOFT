{
 "cells": [
  {
   "cell_type": "code",
   "execution_count": 48,
   "metadata": {},
   "outputs": [],
   "source": [
    "import pandas as pd\n",
    "import numpy as np\n",
    "import matplotlib.pyplot as plt\n",
    "import seaborn as sns\n",
    "import warnings\n",
    "from sklearn import linear_model\n",
    "from sklearn.preprocessing import LabelEncoder \n",
    "from sklearn.preprocessing import StandardScaler\n",
    "from sklearn.model_selection import train_test_split\n",
    "from sklearn.linear_model import LogisticRegression as LR\n",
    "\n"
   ]
  },
  {
   "cell_type": "code",
   "execution_count": 49,
   "metadata": {},
   "outputs": [
    {
     "data": {
      "text/html": [
       "<div>\n",
       "<style scoped>\n",
       "    .dataframe tbody tr th:only-of-type {\n",
       "        vertical-align: middle;\n",
       "    }\n",
       "\n",
       "    .dataframe tbody tr th {\n",
       "        vertical-align: top;\n",
       "    }\n",
       "\n",
       "    .dataframe thead th {\n",
       "        text-align: right;\n",
       "    }\n",
       "</style>\n",
       "<table border=\"1\" class=\"dataframe\">\n",
       "  <thead>\n",
       "    <tr style=\"text-align: right;\">\n",
       "      <th></th>\n",
       "      <th>Name</th>\n",
       "      <th>Year</th>\n",
       "      <th>Duration</th>\n",
       "      <th>Genre</th>\n",
       "      <th>Rating</th>\n",
       "      <th>Votes</th>\n",
       "      <th>Director</th>\n",
       "      <th>Actor 1</th>\n",
       "      <th>Actor 2</th>\n",
       "      <th>Actor 3</th>\n",
       "    </tr>\n",
       "  </thead>\n",
       "  <tbody>\n",
       "    <tr>\n",
       "      <th>0</th>\n",
       "      <td></td>\n",
       "      <td>NaN</td>\n",
       "      <td>NaN</td>\n",
       "      <td>Drama</td>\n",
       "      <td>NaN</td>\n",
       "      <td>NaN</td>\n",
       "      <td>J.S. Randhawa</td>\n",
       "      <td>Manmauji</td>\n",
       "      <td>Birbal</td>\n",
       "      <td>Rajendra Bhatia</td>\n",
       "    </tr>\n",
       "    <tr>\n",
       "      <th>1</th>\n",
       "      <td>#Gadhvi (He thought he was Gandhi)</td>\n",
       "      <td>(2019)</td>\n",
       "      <td>109 min</td>\n",
       "      <td>Drama</td>\n",
       "      <td>7.0</td>\n",
       "      <td>8</td>\n",
       "      <td>Gaurav Bakshi</td>\n",
       "      <td>Rasika Dugal</td>\n",
       "      <td>Vivek Ghamande</td>\n",
       "      <td>Arvind Jangid</td>\n",
       "    </tr>\n",
       "    <tr>\n",
       "      <th>2</th>\n",
       "      <td>#Homecoming</td>\n",
       "      <td>(2021)</td>\n",
       "      <td>90 min</td>\n",
       "      <td>Drama, Musical</td>\n",
       "      <td>NaN</td>\n",
       "      <td>NaN</td>\n",
       "      <td>Soumyajit Majumdar</td>\n",
       "      <td>Sayani Gupta</td>\n",
       "      <td>Plabita Borthakur</td>\n",
       "      <td>Roy Angana</td>\n",
       "    </tr>\n",
       "    <tr>\n",
       "      <th>3</th>\n",
       "      <td>#Yaaram</td>\n",
       "      <td>(2019)</td>\n",
       "      <td>110 min</td>\n",
       "      <td>Comedy, Romance</td>\n",
       "      <td>4.4</td>\n",
       "      <td>35</td>\n",
       "      <td>Ovais Khan</td>\n",
       "      <td>Prateik</td>\n",
       "      <td>Ishita Raj</td>\n",
       "      <td>Siddhant Kapoor</td>\n",
       "    </tr>\n",
       "    <tr>\n",
       "      <th>4</th>\n",
       "      <td>...And Once Again</td>\n",
       "      <td>(2010)</td>\n",
       "      <td>105 min</td>\n",
       "      <td>Drama</td>\n",
       "      <td>NaN</td>\n",
       "      <td>NaN</td>\n",
       "      <td>Amol Palekar</td>\n",
       "      <td>Rajat Kapoor</td>\n",
       "      <td>Rituparna Sengupta</td>\n",
       "      <td>Antara Mali</td>\n",
       "    </tr>\n",
       "  </tbody>\n",
       "</table>\n",
       "</div>"
      ],
      "text/plain": [
       "                                 Name    Year Duration            Genre  \\\n",
       "0                                         NaN      NaN            Drama   \n",
       "1  #Gadhvi (He thought he was Gandhi)  (2019)  109 min            Drama   \n",
       "2                         #Homecoming  (2021)   90 min   Drama, Musical   \n",
       "3                             #Yaaram  (2019)  110 min  Comedy, Romance   \n",
       "4                   ...And Once Again  (2010)  105 min            Drama   \n",
       "\n",
       "   Rating Votes            Director       Actor 1             Actor 2  \\\n",
       "0     NaN   NaN       J.S. Randhawa      Manmauji              Birbal   \n",
       "1     7.0     8       Gaurav Bakshi  Rasika Dugal      Vivek Ghamande   \n",
       "2     NaN   NaN  Soumyajit Majumdar  Sayani Gupta   Plabita Borthakur   \n",
       "3     4.4    35          Ovais Khan       Prateik          Ishita Raj   \n",
       "4     NaN   NaN        Amol Palekar  Rajat Kapoor  Rituparna Sengupta   \n",
       "\n",
       "           Actor 3  \n",
       "0  Rajendra Bhatia  \n",
       "1    Arvind Jangid  \n",
       "2       Roy Angana  \n",
       "3  Siddhant Kapoor  \n",
       "4      Antara Mali  "
      ]
     },
     "execution_count": 49,
     "metadata": {},
     "output_type": "execute_result"
    }
   ],
   "source": [
    "df = pd.read_csv(\"IMDb Movies India.csv\",encoding='ISO-8859-1')\n",
    "chunks = [df[i:i + 5000] for i in range(0, len(df), 5000)]\n",
    "\n",
    "\n",
    "for i, chunk in enumerate(chunks):\n",
    "    chunk.to_csv('movie_rate.csv'.format(i), index=False)\n",
    "    \n",
    "df.head()"
   ]
  },
  {
   "cell_type": "code",
   "execution_count": 3,
   "metadata": {},
   "outputs": [
    {
     "data": {
      "text/html": [
       "<div>\n",
       "<style scoped>\n",
       "    .dataframe tbody tr th:only-of-type {\n",
       "        vertical-align: middle;\n",
       "    }\n",
       "\n",
       "    .dataframe tbody tr th {\n",
       "        vertical-align: top;\n",
       "    }\n",
       "\n",
       "    .dataframe thead th {\n",
       "        text-align: right;\n",
       "    }\n",
       "</style>\n",
       "<table border=\"1\" class=\"dataframe\">\n",
       "  <thead>\n",
       "    <tr style=\"text-align: right;\">\n",
       "      <th></th>\n",
       "      <th>Name</th>\n",
       "      <th>Year</th>\n",
       "      <th>Duration</th>\n",
       "      <th>Genre</th>\n",
       "      <th>Rating</th>\n",
       "      <th>Votes</th>\n",
       "      <th>Director</th>\n",
       "      <th>Actor 1</th>\n",
       "      <th>Actor 2</th>\n",
       "      <th>Actor 3</th>\n",
       "    </tr>\n",
       "  </thead>\n",
       "  <tbody>\n",
       "    <tr>\n",
       "      <th>0</th>\n",
       "      <td></td>\n",
       "      <td>NaN</td>\n",
       "      <td>NaN</td>\n",
       "      <td>Drama</td>\n",
       "      <td>NaN</td>\n",
       "      <td>NaN</td>\n",
       "      <td>J.S. Randhawa</td>\n",
       "      <td>Manmauji</td>\n",
       "      <td>Birbal</td>\n",
       "      <td>Rajendra Bhatia</td>\n",
       "    </tr>\n",
       "    <tr>\n",
       "      <th>1</th>\n",
       "      <td>#Gadhvi (He thought he was Gandhi)</td>\n",
       "      <td>(2019)</td>\n",
       "      <td>109 min</td>\n",
       "      <td>Drama</td>\n",
       "      <td>7.0</td>\n",
       "      <td>8</td>\n",
       "      <td>Gaurav Bakshi</td>\n",
       "      <td>Rasika Dugal</td>\n",
       "      <td>Vivek Ghamande</td>\n",
       "      <td>Arvind Jangid</td>\n",
       "    </tr>\n",
       "    <tr>\n",
       "      <th>2</th>\n",
       "      <td>#Homecoming</td>\n",
       "      <td>(2021)</td>\n",
       "      <td>90 min</td>\n",
       "      <td>Drama, Musical</td>\n",
       "      <td>NaN</td>\n",
       "      <td>NaN</td>\n",
       "      <td>Soumyajit Majumdar</td>\n",
       "      <td>Sayani Gupta</td>\n",
       "      <td>Plabita Borthakur</td>\n",
       "      <td>Roy Angana</td>\n",
       "    </tr>\n",
       "    <tr>\n",
       "      <th>3</th>\n",
       "      <td>#Yaaram</td>\n",
       "      <td>(2019)</td>\n",
       "      <td>110 min</td>\n",
       "      <td>Comedy, Romance</td>\n",
       "      <td>4.4</td>\n",
       "      <td>35</td>\n",
       "      <td>Ovais Khan</td>\n",
       "      <td>Prateik</td>\n",
       "      <td>Ishita Raj</td>\n",
       "      <td>Siddhant Kapoor</td>\n",
       "    </tr>\n",
       "    <tr>\n",
       "      <th>4</th>\n",
       "      <td>...And Once Again</td>\n",
       "      <td>(2010)</td>\n",
       "      <td>105 min</td>\n",
       "      <td>Drama</td>\n",
       "      <td>NaN</td>\n",
       "      <td>NaN</td>\n",
       "      <td>Amol Palekar</td>\n",
       "      <td>Rajat Kapoor</td>\n",
       "      <td>Rituparna Sengupta</td>\n",
       "      <td>Antara Mali</td>\n",
       "    </tr>\n",
       "    <tr>\n",
       "      <th>5</th>\n",
       "      <td>...Aur Pyaar Ho Gaya</td>\n",
       "      <td>(1997)</td>\n",
       "      <td>147 min</td>\n",
       "      <td>Comedy, Drama, Musical</td>\n",
       "      <td>4.7</td>\n",
       "      <td>827</td>\n",
       "      <td>Rahul Rawail</td>\n",
       "      <td>Bobby Deol</td>\n",
       "      <td>Aishwarya Rai Bachchan</td>\n",
       "      <td>Shammi Kapoor</td>\n",
       "    </tr>\n",
       "    <tr>\n",
       "      <th>6</th>\n",
       "      <td>...Yahaan</td>\n",
       "      <td>(2005)</td>\n",
       "      <td>142 min</td>\n",
       "      <td>Drama, Romance, War</td>\n",
       "      <td>7.4</td>\n",
       "      <td>1,086</td>\n",
       "      <td>Shoojit Sircar</td>\n",
       "      <td>Jimmy Sheirgill</td>\n",
       "      <td>Minissha Lamba</td>\n",
       "      <td>Yashpal Sharma</td>\n",
       "    </tr>\n",
       "    <tr>\n",
       "      <th>7</th>\n",
       "      <td>.in for Motion</td>\n",
       "      <td>(2008)</td>\n",
       "      <td>59 min</td>\n",
       "      <td>Documentary</td>\n",
       "      <td>NaN</td>\n",
       "      <td>NaN</td>\n",
       "      <td>Anirban Datta</td>\n",
       "      <td>NaN</td>\n",
       "      <td>NaN</td>\n",
       "      <td>NaN</td>\n",
       "    </tr>\n",
       "    <tr>\n",
       "      <th>8</th>\n",
       "      <td>?: A Question Mark</td>\n",
       "      <td>(2012)</td>\n",
       "      <td>82 min</td>\n",
       "      <td>Horror, Mystery, Thriller</td>\n",
       "      <td>5.6</td>\n",
       "      <td>326</td>\n",
       "      <td>Allyson Patel</td>\n",
       "      <td>Yash Dave</td>\n",
       "      <td>Muntazir Ahmad</td>\n",
       "      <td>Kiran Bhatia</td>\n",
       "    </tr>\n",
       "    <tr>\n",
       "      <th>9</th>\n",
       "      <td>@Andheri</td>\n",
       "      <td>(2014)</td>\n",
       "      <td>116 min</td>\n",
       "      <td>Action, Crime, Thriller</td>\n",
       "      <td>4.0</td>\n",
       "      <td>11</td>\n",
       "      <td>Biju Bhaskar Nair</td>\n",
       "      <td>Augustine</td>\n",
       "      <td>Fathima Babu</td>\n",
       "      <td>Byon</td>\n",
       "    </tr>\n",
       "  </tbody>\n",
       "</table>\n",
       "</div>"
      ],
      "text/plain": [
       "                                 Name    Year Duration  \\\n",
       "0                                         NaN      NaN   \n",
       "1  #Gadhvi (He thought he was Gandhi)  (2019)  109 min   \n",
       "2                         #Homecoming  (2021)   90 min   \n",
       "3                             #Yaaram  (2019)  110 min   \n",
       "4                   ...And Once Again  (2010)  105 min   \n",
       "5                ...Aur Pyaar Ho Gaya  (1997)  147 min   \n",
       "6                           ...Yahaan  (2005)  142 min   \n",
       "7                      .in for Motion  (2008)   59 min   \n",
       "8                  ?: A Question Mark  (2012)   82 min   \n",
       "9                            @Andheri  (2014)  116 min   \n",
       "\n",
       "                       Genre  Rating  Votes            Director  \\\n",
       "0                      Drama     NaN    NaN       J.S. Randhawa   \n",
       "1                      Drama     7.0      8       Gaurav Bakshi   \n",
       "2             Drama, Musical     NaN    NaN  Soumyajit Majumdar   \n",
       "3            Comedy, Romance     4.4     35          Ovais Khan   \n",
       "4                      Drama     NaN    NaN        Amol Palekar   \n",
       "5     Comedy, Drama, Musical     4.7    827        Rahul Rawail   \n",
       "6        Drama, Romance, War     7.4  1,086      Shoojit Sircar   \n",
       "7                Documentary     NaN    NaN       Anirban Datta   \n",
       "8  Horror, Mystery, Thriller     5.6    326       Allyson Patel   \n",
       "9    Action, Crime, Thriller     4.0     11   Biju Bhaskar Nair   \n",
       "\n",
       "           Actor 1                 Actor 2          Actor 3  \n",
       "0         Manmauji                  Birbal  Rajendra Bhatia  \n",
       "1     Rasika Dugal          Vivek Ghamande    Arvind Jangid  \n",
       "2     Sayani Gupta       Plabita Borthakur       Roy Angana  \n",
       "3          Prateik              Ishita Raj  Siddhant Kapoor  \n",
       "4     Rajat Kapoor      Rituparna Sengupta      Antara Mali  \n",
       "5       Bobby Deol  Aishwarya Rai Bachchan    Shammi Kapoor  \n",
       "6  Jimmy Sheirgill          Minissha Lamba   Yashpal Sharma  \n",
       "7              NaN                     NaN              NaN  \n",
       "8        Yash Dave          Muntazir Ahmad     Kiran Bhatia  \n",
       "9        Augustine            Fathima Babu             Byon  "
      ]
     },
     "execution_count": 3,
     "metadata": {},
     "output_type": "execute_result"
    }
   ],
   "source": [
    "df.head(10)"
   ]
  },
  {
   "cell_type": "code",
   "execution_count": 4,
   "metadata": {},
   "outputs": [
    {
     "data": {
      "text/plain": [
       "(15509, 10)"
      ]
     },
     "execution_count": 4,
     "metadata": {},
     "output_type": "execute_result"
    }
   ],
   "source": [
    "df.shape"
   ]
  },
  {
   "cell_type": "code",
   "execution_count": 5,
   "metadata": {},
   "outputs": [
    {
     "data": {
      "text/html": [
       "<div>\n",
       "<style scoped>\n",
       "    .dataframe tbody tr th:only-of-type {\n",
       "        vertical-align: middle;\n",
       "    }\n",
       "\n",
       "    .dataframe tbody tr th {\n",
       "        vertical-align: top;\n",
       "    }\n",
       "\n",
       "    .dataframe thead th {\n",
       "        text-align: right;\n",
       "    }\n",
       "</style>\n",
       "<table border=\"1\" class=\"dataframe\">\n",
       "  <thead>\n",
       "    <tr style=\"text-align: right;\">\n",
       "      <th></th>\n",
       "      <th>Rating</th>\n",
       "    </tr>\n",
       "  </thead>\n",
       "  <tbody>\n",
       "    <tr>\n",
       "      <th>count</th>\n",
       "      <td>7919.000000</td>\n",
       "    </tr>\n",
       "    <tr>\n",
       "      <th>mean</th>\n",
       "      <td>5.841621</td>\n",
       "    </tr>\n",
       "    <tr>\n",
       "      <th>std</th>\n",
       "      <td>1.381777</td>\n",
       "    </tr>\n",
       "    <tr>\n",
       "      <th>min</th>\n",
       "      <td>1.100000</td>\n",
       "    </tr>\n",
       "    <tr>\n",
       "      <th>25%</th>\n",
       "      <td>4.900000</td>\n",
       "    </tr>\n",
       "    <tr>\n",
       "      <th>50%</th>\n",
       "      <td>6.000000</td>\n",
       "    </tr>\n",
       "    <tr>\n",
       "      <th>75%</th>\n",
       "      <td>6.800000</td>\n",
       "    </tr>\n",
       "    <tr>\n",
       "      <th>max</th>\n",
       "      <td>10.000000</td>\n",
       "    </tr>\n",
       "  </tbody>\n",
       "</table>\n",
       "</div>"
      ],
      "text/plain": [
       "            Rating\n",
       "count  7919.000000\n",
       "mean      5.841621\n",
       "std       1.381777\n",
       "min       1.100000\n",
       "25%       4.900000\n",
       "50%       6.000000\n",
       "75%       6.800000\n",
       "max      10.000000"
      ]
     },
     "execution_count": 5,
     "metadata": {},
     "output_type": "execute_result"
    }
   ],
   "source": [
    "df.describe()"
   ]
  },
  {
   "cell_type": "code",
   "execution_count": 6,
   "metadata": {},
   "outputs": [
    {
     "data": {
      "text/plain": [
       "Name         object\n",
       "Year         object\n",
       "Duration     object\n",
       "Genre        object\n",
       "Rating      float64\n",
       "Votes        object\n",
       "Director     object\n",
       "Actor 1      object\n",
       "Actor 2      object\n",
       "Actor 3      object\n",
       "dtype: object"
      ]
     },
     "execution_count": 6,
     "metadata": {},
     "output_type": "execute_result"
    }
   ],
   "source": [
    "df.dtypes"
   ]
  },
  {
   "cell_type": "code",
   "execution_count": 7,
   "metadata": {},
   "outputs": [
    {
     "data": {
      "text/html": [
       "<div>\n",
       "<style scoped>\n",
       "    .dataframe tbody tr th:only-of-type {\n",
       "        vertical-align: middle;\n",
       "    }\n",
       "\n",
       "    .dataframe tbody tr th {\n",
       "        vertical-align: top;\n",
       "    }\n",
       "\n",
       "    .dataframe thead th {\n",
       "        text-align: right;\n",
       "    }\n",
       "</style>\n",
       "<table border=\"1\" class=\"dataframe\">\n",
       "  <thead>\n",
       "    <tr style=\"text-align: right;\">\n",
       "      <th></th>\n",
       "      <th>Name</th>\n",
       "      <th>Year</th>\n",
       "      <th>Duration</th>\n",
       "      <th>Genre</th>\n",
       "      <th>Rating</th>\n",
       "      <th>Votes</th>\n",
       "      <th>Director</th>\n",
       "      <th>Actor 1</th>\n",
       "      <th>Actor 2</th>\n",
       "      <th>Actor 3</th>\n",
       "    </tr>\n",
       "  </thead>\n",
       "  <tbody>\n",
       "    <tr>\n",
       "      <th>0</th>\n",
       "      <td>False</td>\n",
       "      <td>True</td>\n",
       "      <td>True</td>\n",
       "      <td>False</td>\n",
       "      <td>True</td>\n",
       "      <td>True</td>\n",
       "      <td>False</td>\n",
       "      <td>False</td>\n",
       "      <td>False</td>\n",
       "      <td>False</td>\n",
       "    </tr>\n",
       "    <tr>\n",
       "      <th>1</th>\n",
       "      <td>False</td>\n",
       "      <td>False</td>\n",
       "      <td>False</td>\n",
       "      <td>False</td>\n",
       "      <td>False</td>\n",
       "      <td>False</td>\n",
       "      <td>False</td>\n",
       "      <td>False</td>\n",
       "      <td>False</td>\n",
       "      <td>False</td>\n",
       "    </tr>\n",
       "    <tr>\n",
       "      <th>2</th>\n",
       "      <td>False</td>\n",
       "      <td>False</td>\n",
       "      <td>False</td>\n",
       "      <td>False</td>\n",
       "      <td>True</td>\n",
       "      <td>True</td>\n",
       "      <td>False</td>\n",
       "      <td>False</td>\n",
       "      <td>False</td>\n",
       "      <td>False</td>\n",
       "    </tr>\n",
       "    <tr>\n",
       "      <th>3</th>\n",
       "      <td>False</td>\n",
       "      <td>False</td>\n",
       "      <td>False</td>\n",
       "      <td>False</td>\n",
       "      <td>False</td>\n",
       "      <td>False</td>\n",
       "      <td>False</td>\n",
       "      <td>False</td>\n",
       "      <td>False</td>\n",
       "      <td>False</td>\n",
       "    </tr>\n",
       "    <tr>\n",
       "      <th>4</th>\n",
       "      <td>False</td>\n",
       "      <td>False</td>\n",
       "      <td>False</td>\n",
       "      <td>False</td>\n",
       "      <td>True</td>\n",
       "      <td>True</td>\n",
       "      <td>False</td>\n",
       "      <td>False</td>\n",
       "      <td>False</td>\n",
       "      <td>False</td>\n",
       "    </tr>\n",
       "    <tr>\n",
       "      <th>...</th>\n",
       "      <td>...</td>\n",
       "      <td>...</td>\n",
       "      <td>...</td>\n",
       "      <td>...</td>\n",
       "      <td>...</td>\n",
       "      <td>...</td>\n",
       "      <td>...</td>\n",
       "      <td>...</td>\n",
       "      <td>...</td>\n",
       "      <td>...</td>\n",
       "    </tr>\n",
       "    <tr>\n",
       "      <th>15504</th>\n",
       "      <td>False</td>\n",
       "      <td>False</td>\n",
       "      <td>True</td>\n",
       "      <td>False</td>\n",
       "      <td>False</td>\n",
       "      <td>False</td>\n",
       "      <td>False</td>\n",
       "      <td>False</td>\n",
       "      <td>False</td>\n",
       "      <td>False</td>\n",
       "    </tr>\n",
       "    <tr>\n",
       "      <th>15505</th>\n",
       "      <td>False</td>\n",
       "      <td>False</td>\n",
       "      <td>False</td>\n",
       "      <td>False</td>\n",
       "      <td>False</td>\n",
       "      <td>False</td>\n",
       "      <td>False</td>\n",
       "      <td>False</td>\n",
       "      <td>False</td>\n",
       "      <td>False</td>\n",
       "    </tr>\n",
       "    <tr>\n",
       "      <th>15506</th>\n",
       "      <td>False</td>\n",
       "      <td>False</td>\n",
       "      <td>True</td>\n",
       "      <td>False</td>\n",
       "      <td>True</td>\n",
       "      <td>True</td>\n",
       "      <td>False</td>\n",
       "      <td>False</td>\n",
       "      <td>True</td>\n",
       "      <td>True</td>\n",
       "    </tr>\n",
       "    <tr>\n",
       "      <th>15507</th>\n",
       "      <td>False</td>\n",
       "      <td>False</td>\n",
       "      <td>True</td>\n",
       "      <td>False</td>\n",
       "      <td>True</td>\n",
       "      <td>True</td>\n",
       "      <td>True</td>\n",
       "      <td>True</td>\n",
       "      <td>True</td>\n",
       "      <td>True</td>\n",
       "    </tr>\n",
       "    <tr>\n",
       "      <th>15508</th>\n",
       "      <td>False</td>\n",
       "      <td>False</td>\n",
       "      <td>False</td>\n",
       "      <td>False</td>\n",
       "      <td>False</td>\n",
       "      <td>False</td>\n",
       "      <td>False</td>\n",
       "      <td>False</td>\n",
       "      <td>False</td>\n",
       "      <td>False</td>\n",
       "    </tr>\n",
       "  </tbody>\n",
       "</table>\n",
       "<p>15509 rows × 10 columns</p>\n",
       "</div>"
      ],
      "text/plain": [
       "        Name   Year  Duration  Genre  Rating  Votes  Director  Actor 1  \\\n",
       "0      False   True      True  False    True   True     False    False   \n",
       "1      False  False     False  False   False  False     False    False   \n",
       "2      False  False     False  False    True   True     False    False   \n",
       "3      False  False     False  False   False  False     False    False   \n",
       "4      False  False     False  False    True   True     False    False   \n",
       "...      ...    ...       ...    ...     ...    ...       ...      ...   \n",
       "15504  False  False      True  False   False  False     False    False   \n",
       "15505  False  False     False  False   False  False     False    False   \n",
       "15506  False  False      True  False    True   True     False    False   \n",
       "15507  False  False      True  False    True   True      True     True   \n",
       "15508  False  False     False  False   False  False     False    False   \n",
       "\n",
       "       Actor 2  Actor 3  \n",
       "0        False    False  \n",
       "1        False    False  \n",
       "2        False    False  \n",
       "3        False    False  \n",
       "4        False    False  \n",
       "...        ...      ...  \n",
       "15504    False    False  \n",
       "15505    False    False  \n",
       "15506     True     True  \n",
       "15507     True     True  \n",
       "15508    False    False  \n",
       "\n",
       "[15509 rows x 10 columns]"
      ]
     },
     "execution_count": 7,
     "metadata": {},
     "output_type": "execute_result"
    }
   ],
   "source": [
    "df.isnull()"
   ]
  },
  {
   "cell_type": "code",
   "execution_count": 8,
   "metadata": {},
   "outputs": [
    {
     "data": {
      "text/plain": [
       "0         True\n",
       "1        False\n",
       "2         True\n",
       "3        False\n",
       "4         True\n",
       "         ...  \n",
       "15504    False\n",
       "15505    False\n",
       "15506     True\n",
       "15507     True\n",
       "15508    False\n",
       "Name: Rating, Length: 15509, dtype: bool"
      ]
     },
     "execution_count": 8,
     "metadata": {},
     "output_type": "execute_result"
    }
   ],
   "source": [
    "df['Rating'].isnull()"
   ]
  },
  {
   "cell_type": "code",
   "execution_count": 9,
   "metadata": {},
   "outputs": [
    {
     "data": {
      "text/plain": [
       "Rating\n",
       "6.2     269\n",
       "6.8     264\n",
       "6.5     254\n",
       "6.6     239\n",
       "6.7     227\n",
       "       ... \n",
       "9.6       1\n",
       "1.4       1\n",
       "9.7       1\n",
       "10.0      1\n",
       "1.1       1\n",
       "Name: count, Length: 84, dtype: int64"
      ]
     },
     "execution_count": 9,
     "metadata": {},
     "output_type": "execute_result"
    }
   ],
   "source": [
    "df['Rating'].value_counts()"
   ]
  },
  {
   "cell_type": "code",
   "execution_count": 10,
   "metadata": {},
   "outputs": [
    {
     "data": {
      "text/plain": [
       "Director\n",
       "Jayant Desai        58\n",
       "Kanti Shah          57\n",
       "Babubhai Mistry     50\n",
       "Mahesh Bhatt        48\n",
       "Master Bhagwan      47\n",
       "                    ..\n",
       "Naeem Siddiqui       1\n",
       "Shadaab Khan         1\n",
       "Mystelle Brabbee     1\n",
       "Kunal Shivdasani     1\n",
       "Kiran Thej           1\n",
       "Name: count, Length: 5938, dtype: int64"
      ]
     },
     "execution_count": 10,
     "metadata": {},
     "output_type": "execute_result"
    }
   ],
   "source": [
    "df['Director'].value_counts()"
   ]
  },
  {
   "cell_type": "code",
   "execution_count": 11,
   "metadata": {},
   "outputs": [
    {
     "data": {
      "text/plain": [
       "Genre\n",
       "Drama                         2780\n",
       "Action                        1289\n",
       "Thriller                       779\n",
       "Romance                        708\n",
       "Drama, Romance                 524\n",
       "                              ... \n",
       "Action, Musical, War             1\n",
       "Horror, Crime, Thriller          1\n",
       "Animation, Comedy                1\n",
       "Romance, Action, Crime           1\n",
       "Adventure, Fantasy, Sci-Fi       1\n",
       "Name: count, Length: 485, dtype: int64"
      ]
     },
     "execution_count": 11,
     "metadata": {},
     "output_type": "execute_result"
    }
   ],
   "source": [
    "df['Genre'].value_counts()"
   ]
  },
  {
   "cell_type": "code",
   "execution_count": 12,
   "metadata": {},
   "outputs": [
    {
     "data": {
      "text/html": [
       "<div>\n",
       "<style scoped>\n",
       "    .dataframe tbody tr th:only-of-type {\n",
       "        vertical-align: middle;\n",
       "    }\n",
       "\n",
       "    .dataframe tbody tr th {\n",
       "        vertical-align: top;\n",
       "    }\n",
       "\n",
       "    .dataframe thead th {\n",
       "        text-align: right;\n",
       "    }\n",
       "</style>\n",
       "<table border=\"1\" class=\"dataframe\">\n",
       "  <thead>\n",
       "    <tr style=\"text-align: right;\">\n",
       "      <th></th>\n",
       "      <th>Name</th>\n",
       "      <th>Year</th>\n",
       "      <th>Duration</th>\n",
       "      <th>Genre</th>\n",
       "      <th>Rating</th>\n",
       "      <th>Votes</th>\n",
       "      <th>Director</th>\n",
       "      <th>Actor 1</th>\n",
       "      <th>Actor 2</th>\n",
       "      <th>Actor 3</th>\n",
       "    </tr>\n",
       "  </thead>\n",
       "  <tbody>\n",
       "    <tr>\n",
       "      <th>1</th>\n",
       "      <td>#Gadhvi (He thought he was Gandhi)</td>\n",
       "      <td>(2019)</td>\n",
       "      <td>109 min</td>\n",
       "      <td>Drama</td>\n",
       "      <td>7.0</td>\n",
       "      <td>8</td>\n",
       "      <td>Gaurav Bakshi</td>\n",
       "      <td>Rasika Dugal</td>\n",
       "      <td>Vivek Ghamande</td>\n",
       "      <td>Arvind Jangid</td>\n",
       "    </tr>\n",
       "    <tr>\n",
       "      <th>3</th>\n",
       "      <td>#Yaaram</td>\n",
       "      <td>(2019)</td>\n",
       "      <td>110 min</td>\n",
       "      <td>Comedy, Romance</td>\n",
       "      <td>4.4</td>\n",
       "      <td>35</td>\n",
       "      <td>Ovais Khan</td>\n",
       "      <td>Prateik</td>\n",
       "      <td>Ishita Raj</td>\n",
       "      <td>Siddhant Kapoor</td>\n",
       "    </tr>\n",
       "    <tr>\n",
       "      <th>5</th>\n",
       "      <td>...Aur Pyaar Ho Gaya</td>\n",
       "      <td>(1997)</td>\n",
       "      <td>147 min</td>\n",
       "      <td>Comedy, Drama, Musical</td>\n",
       "      <td>4.7</td>\n",
       "      <td>827</td>\n",
       "      <td>Rahul Rawail</td>\n",
       "      <td>Bobby Deol</td>\n",
       "      <td>Aishwarya Rai Bachchan</td>\n",
       "      <td>Shammi Kapoor</td>\n",
       "    </tr>\n",
       "    <tr>\n",
       "      <th>6</th>\n",
       "      <td>...Yahaan</td>\n",
       "      <td>(2005)</td>\n",
       "      <td>142 min</td>\n",
       "      <td>Drama, Romance, War</td>\n",
       "      <td>7.4</td>\n",
       "      <td>1,086</td>\n",
       "      <td>Shoojit Sircar</td>\n",
       "      <td>Jimmy Sheirgill</td>\n",
       "      <td>Minissha Lamba</td>\n",
       "      <td>Yashpal Sharma</td>\n",
       "    </tr>\n",
       "    <tr>\n",
       "      <th>8</th>\n",
       "      <td>?: A Question Mark</td>\n",
       "      <td>(2012)</td>\n",
       "      <td>82 min</td>\n",
       "      <td>Horror, Mystery, Thriller</td>\n",
       "      <td>5.6</td>\n",
       "      <td>326</td>\n",
       "      <td>Allyson Patel</td>\n",
       "      <td>Yash Dave</td>\n",
       "      <td>Muntazir Ahmad</td>\n",
       "      <td>Kiran Bhatia</td>\n",
       "    </tr>\n",
       "  </tbody>\n",
       "</table>\n",
       "</div>"
      ],
      "text/plain": [
       "                                 Name    Year Duration  \\\n",
       "1  #Gadhvi (He thought he was Gandhi)  (2019)  109 min   \n",
       "3                             #Yaaram  (2019)  110 min   \n",
       "5                ...Aur Pyaar Ho Gaya  (1997)  147 min   \n",
       "6                           ...Yahaan  (2005)  142 min   \n",
       "8                  ?: A Question Mark  (2012)   82 min   \n",
       "\n",
       "                       Genre  Rating  Votes        Director          Actor 1  \\\n",
       "1                      Drama     7.0      8   Gaurav Bakshi     Rasika Dugal   \n",
       "3            Comedy, Romance     4.4     35      Ovais Khan          Prateik   \n",
       "5     Comedy, Drama, Musical     4.7    827    Rahul Rawail       Bobby Deol   \n",
       "6        Drama, Romance, War     7.4  1,086  Shoojit Sircar  Jimmy Sheirgill   \n",
       "8  Horror, Mystery, Thriller     5.6    326   Allyson Patel        Yash Dave   \n",
       "\n",
       "                  Actor 2          Actor 3  \n",
       "1          Vivek Ghamande    Arvind Jangid  \n",
       "3              Ishita Raj  Siddhant Kapoor  \n",
       "5  Aishwarya Rai Bachchan    Shammi Kapoor  \n",
       "6          Minissha Lamba   Yashpal Sharma  \n",
       "8          Muntazir Ahmad     Kiran Bhatia  "
      ]
     },
     "execution_count": 12,
     "metadata": {},
     "output_type": "execute_result"
    }
   ],
   "source": [
    "df.dropna(inplace=True)\n",
    "df.head()"
   ]
  },
  {
   "cell_type": "code",
   "execution_count": 13,
   "metadata": {},
   "outputs": [
    {
     "data": {
      "text/plain": [
       "Name        0\n",
       "Year        0\n",
       "Duration    0\n",
       "Genre       0\n",
       "Rating      0\n",
       "Votes       0\n",
       "Director    0\n",
       "Actor 1     0\n",
       "Actor 2     0\n",
       "Actor 3     0\n",
       "dtype: int64"
      ]
     },
     "execution_count": 13,
     "metadata": {},
     "output_type": "execute_result"
    }
   ],
   "source": [
    "df.isna().sum()"
   ]
  },
  {
   "cell_type": "code",
   "execution_count": 14,
   "metadata": {},
   "outputs": [
    {
     "data": {
      "text/html": [
       "<div>\n",
       "<style scoped>\n",
       "    .dataframe tbody tr th:only-of-type {\n",
       "        vertical-align: middle;\n",
       "    }\n",
       "\n",
       "    .dataframe tbody tr th {\n",
       "        vertical-align: top;\n",
       "    }\n",
       "\n",
       "    .dataframe thead th {\n",
       "        text-align: right;\n",
       "    }\n",
       "</style>\n",
       "<table border=\"1\" class=\"dataframe\">\n",
       "  <thead>\n",
       "    <tr style=\"text-align: right;\">\n",
       "      <th></th>\n",
       "      <th>Name</th>\n",
       "      <th>Year</th>\n",
       "      <th>Duration</th>\n",
       "      <th>Genre</th>\n",
       "      <th>Rating</th>\n",
       "      <th>Votes</th>\n",
       "      <th>Director</th>\n",
       "      <th>Actor 1</th>\n",
       "      <th>Actor 2</th>\n",
       "      <th>Actor 3</th>\n",
       "    </tr>\n",
       "  </thead>\n",
       "  <tbody>\n",
       "    <tr>\n",
       "      <th>0</th>\n",
       "      <td>War Chhod Na Yaar</td>\n",
       "      <td>(2013)</td>\n",
       "      <td>119 min</td>\n",
       "      <td>Comedy, War</td>\n",
       "      <td>5.4</td>\n",
       "      <td>936</td>\n",
       "      <td>Faraz Haider</td>\n",
       "      <td>Sharman Joshi</td>\n",
       "      <td>Soha Ali Khan</td>\n",
       "      <td>Javed Jaffrey</td>\n",
       "    </tr>\n",
       "    <tr>\n",
       "      <th>1</th>\n",
       "      <td>Wardat</td>\n",
       "      <td>(1981)</td>\n",
       "      <td>133 min</td>\n",
       "      <td>Action, Thriller</td>\n",
       "      <td>6.8</td>\n",
       "      <td>51</td>\n",
       "      <td>Ravikant Nagaich</td>\n",
       "      <td>Mithun Chakraborty</td>\n",
       "      <td>Kaajal Kiran</td>\n",
       "      <td>Shakti Kapoor</td>\n",
       "    </tr>\n",
       "    <tr>\n",
       "      <th>2</th>\n",
       "      <td>Waris</td>\n",
       "      <td>(1969)</td>\n",
       "      <td>NaN</td>\n",
       "      <td>Comedy, Drama</td>\n",
       "      <td>5.9</td>\n",
       "      <td>48</td>\n",
       "      <td>Ramanna</td>\n",
       "      <td>Jeetendra</td>\n",
       "      <td>Hema Malini</td>\n",
       "      <td>Prem Chopra</td>\n",
       "    </tr>\n",
       "    <tr>\n",
       "      <th>3</th>\n",
       "      <td>Waris</td>\n",
       "      <td>(1954)</td>\n",
       "      <td>122 min</td>\n",
       "      <td>Drama, Family</td>\n",
       "      <td>6.4</td>\n",
       "      <td>9</td>\n",
       "      <td>Nitin Bose</td>\n",
       "      <td>Talat Mahmood</td>\n",
       "      <td>Suraiya</td>\n",
       "      <td>Nadira</td>\n",
       "    </tr>\n",
       "    <tr>\n",
       "      <th>4</th>\n",
       "      <td>Warning</td>\n",
       "      <td>(2013)</td>\n",
       "      <td>109 min</td>\n",
       "      <td>Adventure, Thriller</td>\n",
       "      <td>4.6</td>\n",
       "      <td>236</td>\n",
       "      <td>Gurmmeet Singh</td>\n",
       "      <td>Vishal Chaturvedi</td>\n",
       "      <td>Santosh Barmola</td>\n",
       "      <td>Jitin Gulati</td>\n",
       "    </tr>\n",
       "  </tbody>\n",
       "</table>\n",
       "</div>"
      ],
      "text/plain": [
       "                Name    Year Duration                Genre  Rating Votes  \\\n",
       "0  War Chhod Na Yaar  (2013)  119 min          Comedy, War     5.4   936   \n",
       "1             Wardat  (1981)  133 min     Action, Thriller     6.8    51   \n",
       "2              Waris  (1969)      NaN        Comedy, Drama     5.9    48   \n",
       "3              Waris  (1954)  122 min        Drama, Family     6.4     9   \n",
       "4            Warning  (2013)  109 min  Adventure, Thriller     4.6   236   \n",
       "\n",
       "           Director             Actor 1          Actor 2        Actor 3  \n",
       "0      Faraz Haider       Sharman Joshi    Soha Ali Khan  Javed Jaffrey  \n",
       "1  Ravikant Nagaich  Mithun Chakraborty     Kaajal Kiran  Shakti Kapoor  \n",
       "2           Ramanna           Jeetendra      Hema Malini    Prem Chopra  \n",
       "3        Nitin Bose       Talat Mahmood          Suraiya         Nadira  \n",
       "4    Gurmmeet Singh   Vishal Chaturvedi  Santosh Barmola   Jitin Gulati  "
      ]
     },
     "execution_count": 14,
     "metadata": {},
     "output_type": "execute_result"
    }
   ],
   "source": [
    "df1 = pd.read_csv(\"movie_rate.csv\")\n",
    "df1.head()"
   ]
  },
  {
   "cell_type": "code",
   "execution_count": 15,
   "metadata": {},
   "outputs": [
    {
     "data": {
      "text/plain": [
       "(509, 10)"
      ]
     },
     "execution_count": 15,
     "metadata": {},
     "output_type": "execute_result"
    }
   ],
   "source": [
    "df1.shape"
   ]
  },
  {
   "cell_type": "code",
   "execution_count": 19,
   "metadata": {},
   "outputs": [
    {
     "data": {
      "image/png": "[encoded data removed]",
      "text/plain": [
       "<Figure size 640x480 with 1 Axes>"
      ]
     },
     "metadata": {},
     "output_type": "display_data"
    }
   ],
   "source": [
    "df1.plot.hist(bins=100)\n",
    "plt.xlabel('Rating')\n",
    "plt.ylabel('Director')\n",
    "plt.title('Rating vs Director')\n",
    "plt.show()"
   ]
  },
  {
   "cell_type": "code",
   "execution_count": 17,
   "metadata": {},
   "outputs": [
    {
     "name": "stderr",
     "output_type": "stream",
     "text": [
      "c:\\Users\\ardhe\\anaconda3\\Lib\\site-packages\\seaborn\\axisgrid.py:118: UserWarning: The figure layout has changed to tight\n",
      "  self._figure.tight_layout(*args, **kwargs)\n"
     ]
    },
    {
     "data": {
      "text/plain": [
       "<seaborn.axisgrid.FacetGrid at 0x1d45eb42f10>"
      ]
     },
     "execution_count": 17,
     "metadata": {},
     "output_type": "execute_result"
    },
    {
     "data": {
      "image/png": "[encoded data removed]",
      "text/plain": [
       "<Figure size 500x500 with 1 Axes>"
      ]
     },
     "metadata": {},
     "output_type": "display_data"
    }
   ],
   "source": [
    "sns.relplot(x='Director',y='Rating',data = df1)"
   ]
  },
  {
   "cell_type": "code",
   "execution_count": 18,
   "metadata": {},
   "outputs": [
    {
     "data": {
      "image/png": "[encoded data removed]",
      "text/plain": [
       "<Figure size 640x480 with 1 Axes>"
      ]
     },
     "metadata": {},
     "output_type": "display_data"
    }
   ],
   "source": [
    "df1.plot.hist(bins=100)\n",
    "plt.xlabel('Rating')\n",
    "plt.ylabel('Genre')\n",
    "plt.title('Rating vs Genre')\n",
    "plt.show()"
   ]
  },
  {
   "cell_type": "code",
   "execution_count": 21,
   "metadata": {},
   "outputs": [
    {
     "data": {
      "image/png": "[encoded data removed]",
      "text/plain": [
       "<Figure size 640x480 with 1 Axes>"
      ]
     },
     "metadata": {},
     "output_type": "display_data"
    }
   ],
   "source": [
    "df1.plot.hist(bins=200)\n",
    "plt.xlabel('Rating')\n",
    "plt.ylabel('Actor 1')\n",
    "plt.title('Rating vs Actor 1')\n",
    "plt.show()"
   ]
  },
  {
   "cell_type": "code",
   "execution_count": 22,
   "metadata": {},
   "outputs": [
    {
     "data": {
      "image/png": "[encoded data removed]",
      "text/plain": [
       "<Figure size 640x480 with 1 Axes>"
      ]
     },
     "metadata": {},
     "output_type": "display_data"
    }
   ],
   "source": [
    "df1.plot.hist(bins=100)\n",
    "plt.xlabel('Rating')\n",
    "plt.ylabel('Actor 2')\n",
    "plt.title('Rating vs Actor 2')\n",
    "plt.show()"
   ]
  },
  {
   "cell_type": "code",
   "execution_count": 23,
   "metadata": {},
   "outputs": [
    {
     "data": {
      "image/png": "[encoded data removed]",
      "text/plain": [
       "<Figure size 640x480 with 1 Axes>"
      ]
     },
     "metadata": {},
     "output_type": "display_data"
    }
   ],
   "source": [
    "df1.plot.hist(bins=100)\n",
    "plt.xlabel('Rating')\n",
    "plt.ylabel('Actor 3')\n",
    "plt.title('Rating vs Actor 3')\n",
    "plt.show()"
   ]
  },
  {
   "cell_type": "code",
   "execution_count": 29,
   "metadata": {},
   "outputs": [
    {
     "data": {
      "text/plain": [
       "<Axes: xlabel='Rating', ylabel='count'>"
      ]
     },
     "execution_count": 29,
     "metadata": {},
     "output_type": "execute_result"
    },
    {
     "data": {
      "image/png": "[encoded data removed]",
      "text/plain": [
       "<Figure size 640x480 with 1 Axes>"
      ]
     },
     "metadata": {},
     "output_type": "display_data"
    }
   ],
   "source": [
    "sns.countplot(x = df1['Rating'],hue = df1['Genre'])\n"
   ]
  },
  {
   "cell_type": "code",
   "execution_count": 30,
   "metadata": {},
   "outputs": [
    {
     "data": {
      "text/plain": [
       "0      5.4\n",
       "1      6.8\n",
       "2      5.9\n",
       "3      6.4\n",
       "4      4.6\n",
       "      ... \n",
       "504    4.6\n",
       "505    4.5\n",
       "506    NaN\n",
       "507    NaN\n",
       "508    6.2\n",
       "Name: Rating, Length: 509, dtype: float64"
      ]
     },
     "execution_count": 30,
     "metadata": {},
     "output_type": "execute_result"
    }
   ],
   "source": [
    "df1['Rating']"
   ]
  },
  {
   "cell_type": "code",
   "execution_count": 31,
   "metadata": {},
   "outputs": [
    {
     "data": {
      "text/plain": [
       "<Axes: xlabel='Rating', ylabel='count'>"
      ]
     },
     "execution_count": 31,
     "metadata": {},
     "output_type": "execute_result"
    },
    {
     "data": {
      "image/png": "[encoded data removed]",
      "text/plain": [
       "<Figure size 640x480 with 1 Axes>"
      ]
     },
     "metadata": {},
     "output_type": "display_data"
    }
   ],
   "source": [
    "sns.countplot(x=df1['Rating'])"
   ]
  },
  {
   "cell_type": "code",
   "execution_count": 32,
   "metadata": {},
   "outputs": [
    {
     "data": {
      "text/plain": [
       "array([5.4, 6.8, 5.9, 6.4, 4.6, 7.1, 4.7, nan, 4.1, 5.7, 7.7, 6.3, 5.6,\n",
       "       4.8, 4.9, 3.8, 6.9, 4.3, 4.2, 7.5, 6. , 7.9, 5.2, 1.6, 7.3, 6.5,\n",
       "       5. , 7. , 5.8, 5.5, 5.1, 3.9, 4.5, 9. , 6.2, 4.4, 7.6, 3.3, 7.8,\n",
       "       3.5, 8.1, 3.4, 2.7, 3.7, 6.6, 7.2, 6.7, 3.2, 6.1, 8.8, 3.6, 5.3,\n",
       "       8. , 8.6, 3. , 7.4, 4. , 3.1, 2.8, 8.2])"
      ]
     },
     "execution_count": 32,
     "metadata": {},
     "output_type": "execute_result"
    }
   ],
   "source": [
    "df1['Rating'].unique()"
   ]
  },
  {
   "cell_type": "code",
   "execution_count": 34,
   "metadata": {},
   "outputs": [
    {
     "data": {
      "text/html": [
       "<div>\n",
       "<style scoped>\n",
       "    .dataframe tbody tr th:only-of-type {\n",
       "        vertical-align: middle;\n",
       "    }\n",
       "\n",
       "    .dataframe tbody tr th {\n",
       "        vertical-align: top;\n",
       "    }\n",
       "\n",
       "    .dataframe thead th {\n",
       "        text-align: right;\n",
       "    }\n",
       "</style>\n",
       "<table border=\"1\" class=\"dataframe\">\n",
       "  <thead>\n",
       "    <tr style=\"text-align: right;\">\n",
       "      <th></th>\n",
       "      <th>Name</th>\n",
       "      <th>Year</th>\n",
       "      <th>Duration</th>\n",
       "      <th>Genre</th>\n",
       "      <th>Rating</th>\n",
       "      <th>Votes</th>\n",
       "      <th>Director</th>\n",
       "      <th>Actor 1</th>\n",
       "      <th>Actor 2</th>\n",
       "      <th>Actor 3</th>\n",
       "    </tr>\n",
       "  </thead>\n",
       "  <tbody>\n",
       "    <tr>\n",
       "      <th>0</th>\n",
       "      <td>War Chhod Na Yaar</td>\n",
       "      <td>(2013)</td>\n",
       "      <td>119 min</td>\n",
       "      <td>Comedy, War</td>\n",
       "      <td>27</td>\n",
       "      <td>936</td>\n",
       "      <td>Faraz Haider</td>\n",
       "      <td>Sharman Joshi</td>\n",
       "      <td>Soha Ali Khan</td>\n",
       "      <td>Javed Jaffrey</td>\n",
       "    </tr>\n",
       "    <tr>\n",
       "      <th>1</th>\n",
       "      <td>Wardat</td>\n",
       "      <td>(1981)</td>\n",
       "      <td>133 min</td>\n",
       "      <td>Action, Thriller</td>\n",
       "      <td>41</td>\n",
       "      <td>51</td>\n",
       "      <td>Ravikant Nagaich</td>\n",
       "      <td>Mithun Chakraborty</td>\n",
       "      <td>Kaajal Kiran</td>\n",
       "      <td>Shakti Kapoor</td>\n",
       "    </tr>\n",
       "    <tr>\n",
       "      <th>2</th>\n",
       "      <td>Waris</td>\n",
       "      <td>(1969)</td>\n",
       "      <td>NaN</td>\n",
       "      <td>Comedy, Drama</td>\n",
       "      <td>32</td>\n",
       "      <td>48</td>\n",
       "      <td>Ramanna</td>\n",
       "      <td>Jeetendra</td>\n",
       "      <td>Hema Malini</td>\n",
       "      <td>Prem Chopra</td>\n",
       "    </tr>\n",
       "    <tr>\n",
       "      <th>3</th>\n",
       "      <td>Waris</td>\n",
       "      <td>(1954)</td>\n",
       "      <td>122 min</td>\n",
       "      <td>Drama, Family</td>\n",
       "      <td>37</td>\n",
       "      <td>9</td>\n",
       "      <td>Nitin Bose</td>\n",
       "      <td>Talat Mahmood</td>\n",
       "      <td>Suraiya</td>\n",
       "      <td>Nadira</td>\n",
       "    </tr>\n",
       "    <tr>\n",
       "      <th>4</th>\n",
       "      <td>Warning</td>\n",
       "      <td>(2013)</td>\n",
       "      <td>109 min</td>\n",
       "      <td>Adventure, Thriller</td>\n",
       "      <td>19</td>\n",
       "      <td>236</td>\n",
       "      <td>Gurmmeet Singh</td>\n",
       "      <td>Vishal Chaturvedi</td>\n",
       "      <td>Santosh Barmola</td>\n",
       "      <td>Jitin Gulati</td>\n",
       "    </tr>\n",
       "  </tbody>\n",
       "</table>\n",
       "</div>"
      ],
      "text/plain": [
       "                Name    Year Duration                Genre  Rating Votes  \\\n",
       "0  War Chhod Na Yaar  (2013)  119 min          Comedy, War      27   936   \n",
       "1             Wardat  (1981)  133 min     Action, Thriller      41    51   \n",
       "2              Waris  (1969)      NaN        Comedy, Drama      32    48   \n",
       "3              Waris  (1954)  122 min        Drama, Family      37     9   \n",
       "4            Warning  (2013)  109 min  Adventure, Thriller      19   236   \n",
       "\n",
       "           Director             Actor 1          Actor 2        Actor 3  \n",
       "0      Faraz Haider       Sharman Joshi    Soha Ali Khan  Javed Jaffrey  \n",
       "1  Ravikant Nagaich  Mithun Chakraborty     Kaajal Kiran  Shakti Kapoor  \n",
       "2           Ramanna           Jeetendra      Hema Malini    Prem Chopra  \n",
       "3        Nitin Bose       Talat Mahmood          Suraiya         Nadira  \n",
       "4    Gurmmeet Singh   Vishal Chaturvedi  Santosh Barmola   Jitin Gulati  "
      ]
     },
     "execution_count": 34,
     "metadata": {},
     "output_type": "execute_result"
    }
   ],
   "source": [
    "le = LabelEncoder()\n",
    "df1['Rating'] = le.fit_transform(df1['Rating'])\n",
    "df1.head()"
   ]
  },
  {
   "cell_type": "code",
   "execution_count": 35,
   "metadata": {},
   "outputs": [
    {
     "data": {
      "text/plain": [
       "<Axes: xlabel='Rating', ylabel='count'>"
      ]
     },
     "execution_count": 35,
     "metadata": {},
     "output_type": "execute_result"
    },
    {
     "data": {
      "image/png": "[encoded data removed]",
      "text/plain": [
       "<Figure size 640x480 with 1 Axes>"
      ]
     },
     "metadata": {},
     "output_type": "display_data"
    }
   ],
   "source": [
    "sns.countplot(x=df1['Rating'])"
   ]
  },
  {
   "cell_type": "code",
   "execution_count": 36,
   "metadata": {},
   "outputs": [
    {
     "data": {
      "text/html": [
       "<div>\n",
       "<style scoped>\n",
       "    .dataframe tbody tr th:only-of-type {\n",
       "        vertical-align: middle;\n",
       "    }\n",
       "\n",
       "    .dataframe tbody tr th {\n",
       "        vertical-align: top;\n",
       "    }\n",
       "\n",
       "    .dataframe thead th {\n",
       "        text-align: right;\n",
       "    }\n",
       "</style>\n",
       "<table border=\"1\" class=\"dataframe\">\n",
       "  <thead>\n",
       "    <tr style=\"text-align: right;\">\n",
       "      <th></th>\n",
       "      <th>Name</th>\n",
       "      <th>Year</th>\n",
       "      <th>Duration</th>\n",
       "      <th>Genre</th>\n",
       "      <th>Rating</th>\n",
       "      <th>Votes</th>\n",
       "      <th>Director</th>\n",
       "      <th>Actor 1</th>\n",
       "      <th>Actor 2</th>\n",
       "      <th>Actor 3</th>\n",
       "    </tr>\n",
       "  </thead>\n",
       "  <tbody>\n",
       "    <tr>\n",
       "      <th>0</th>\n",
       "      <td>War Chhod Na Yaar</td>\n",
       "      <td>(2013)</td>\n",
       "      <td>119 min</td>\n",
       "      <td>Comedy, War</td>\n",
       "      <td>27</td>\n",
       "      <td>936</td>\n",
       "      <td>112</td>\n",
       "      <td>Sharman Joshi</td>\n",
       "      <td>Soha Ali Khan</td>\n",
       "      <td>Javed Jaffrey</td>\n",
       "    </tr>\n",
       "    <tr>\n",
       "      <th>1</th>\n",
       "      <td>Wardat</td>\n",
       "      <td>(1981)</td>\n",
       "      <td>133 min</td>\n",
       "      <td>Action, Thriller</td>\n",
       "      <td>41</td>\n",
       "      <td>51</td>\n",
       "      <td>308</td>\n",
       "      <td>Mithun Chakraborty</td>\n",
       "      <td>Kaajal Kiran</td>\n",
       "      <td>Shakti Kapoor</td>\n",
       "    </tr>\n",
       "    <tr>\n",
       "      <th>2</th>\n",
       "      <td>Waris</td>\n",
       "      <td>(1969)</td>\n",
       "      <td>NaN</td>\n",
       "      <td>Comedy, Drama</td>\n",
       "      <td>32</td>\n",
       "      <td>48</td>\n",
       "      <td>289</td>\n",
       "      <td>Jeetendra</td>\n",
       "      <td>Hema Malini</td>\n",
       "      <td>Prem Chopra</td>\n",
       "    </tr>\n",
       "    <tr>\n",
       "      <th>3</th>\n",
       "      <td>Waris</td>\n",
       "      <td>(1954)</td>\n",
       "      <td>122 min</td>\n",
       "      <td>Drama, Family</td>\n",
       "      <td>37</td>\n",
       "      <td>9</td>\n",
       "      <td>237</td>\n",
       "      <td>Talat Mahmood</td>\n",
       "      <td>Suraiya</td>\n",
       "      <td>Nadira</td>\n",
       "    </tr>\n",
       "    <tr>\n",
       "      <th>4</th>\n",
       "      <td>Warning</td>\n",
       "      <td>(2013)</td>\n",
       "      <td>109 min</td>\n",
       "      <td>Adventure, Thriller</td>\n",
       "      <td>19</td>\n",
       "      <td>236</td>\n",
       "      <td>123</td>\n",
       "      <td>Vishal Chaturvedi</td>\n",
       "      <td>Santosh Barmola</td>\n",
       "      <td>Jitin Gulati</td>\n",
       "    </tr>\n",
       "  </tbody>\n",
       "</table>\n",
       "</div>"
      ],
      "text/plain": [
       "                Name    Year Duration                Genre  Rating Votes  \\\n",
       "0  War Chhod Na Yaar  (2013)  119 min          Comedy, War      27   936   \n",
       "1             Wardat  (1981)  133 min     Action, Thriller      41    51   \n",
       "2              Waris  (1969)      NaN        Comedy, Drama      32    48   \n",
       "3              Waris  (1954)  122 min        Drama, Family      37     9   \n",
       "4            Warning  (2013)  109 min  Adventure, Thriller      19   236   \n",
       "\n",
       "   Director             Actor 1          Actor 2        Actor 3  \n",
       "0       112       Sharman Joshi    Soha Ali Khan  Javed Jaffrey  \n",
       "1       308  Mithun Chakraborty     Kaajal Kiran  Shakti Kapoor  \n",
       "2       289           Jeetendra      Hema Malini    Prem Chopra  \n",
       "3       237       Talat Mahmood          Suraiya         Nadira  \n",
       "4       123   Vishal Chaturvedi  Santosh Barmola   Jitin Gulati  "
      ]
     },
     "execution_count": 36,
     "metadata": {},
     "output_type": "execute_result"
    }
   ],
   "source": [
    "le = LabelEncoder()\n",
    "df1['Director'] = le.fit_transform(df1['Director'])\n",
    "df1.head()"
   ]
  },
  {
   "cell_type": "code",
   "execution_count": 38,
   "metadata": {},
   "outputs": [
    {
     "data": {
      "text/plain": [
       "(0      27\n",
       " 1      41\n",
       " 2      32\n",
       " 3      37\n",
       " 4      19\n",
       "        ..\n",
       " 504    19\n",
       " 505    18\n",
       " 506    59\n",
       " 507    59\n",
       " 508    35\n",
       " Name: Rating, Length: 509, dtype: int64,\n",
       " 0      112\n",
       " 1      308\n",
       " 2      289\n",
       " 3      237\n",
       " 4      123\n",
       "       ... \n",
       " 504    198\n",
       " 505    188\n",
       " 506    183\n",
       " 507    426\n",
       " 508    168\n",
       " Name: Director, Length: 509, dtype: int32)"
      ]
     },
     "execution_count": 38,
     "metadata": {},
     "output_type": "execute_result"
    }
   ],
   "source": [
    "df1['Rating'],df1['Director']"
   ]
  },
  {
   "cell_type": "code",
   "execution_count": 39,
   "metadata": {},
   "outputs": [
    {
     "data": {
      "text/html": [
       "<div>\n",
       "<style scoped>\n",
       "    .dataframe tbody tr th:only-of-type {\n",
       "        vertical-align: middle;\n",
       "    }\n",
       "\n",
       "    .dataframe tbody tr th {\n",
       "        vertical-align: top;\n",
       "    }\n",
       "\n",
       "    .dataframe thead th {\n",
       "        text-align: right;\n",
       "    }\n",
       "</style>\n",
       "<table border=\"1\" class=\"dataframe\">\n",
       "  <thead>\n",
       "    <tr style=\"text-align: right;\">\n",
       "      <th></th>\n",
       "      <th>Name</th>\n",
       "      <th>Year</th>\n",
       "      <th>Duration</th>\n",
       "      <th>Genre</th>\n",
       "      <th>Rating</th>\n",
       "      <th>Votes</th>\n",
       "      <th>Director</th>\n",
       "      <th>Actor 1</th>\n",
       "      <th>Actor 2</th>\n",
       "      <th>Actor 3</th>\n",
       "    </tr>\n",
       "  </thead>\n",
       "  <tbody>\n",
       "    <tr>\n",
       "      <th>0</th>\n",
       "      <td>War Chhod Na Yaar</td>\n",
       "      <td>(2013)</td>\n",
       "      <td>119 min</td>\n",
       "      <td>Comedy, War</td>\n",
       "      <td>27</td>\n",
       "      <td>936</td>\n",
       "      <td>112</td>\n",
       "      <td>291</td>\n",
       "      <td>Soha Ali Khan</td>\n",
       "      <td>Javed Jaffrey</td>\n",
       "    </tr>\n",
       "    <tr>\n",
       "      <th>1</th>\n",
       "      <td>Wardat</td>\n",
       "      <td>(1981)</td>\n",
       "      <td>133 min</td>\n",
       "      <td>Action, Thriller</td>\n",
       "      <td>41</td>\n",
       "      <td>51</td>\n",
       "      <td>308</td>\n",
       "      <td>184</td>\n",
       "      <td>Kaajal Kiran</td>\n",
       "      <td>Shakti Kapoor</td>\n",
       "    </tr>\n",
       "    <tr>\n",
       "      <th>2</th>\n",
       "      <td>Waris</td>\n",
       "      <td>(1969)</td>\n",
       "      <td>NaN</td>\n",
       "      <td>Comedy, Drama</td>\n",
       "      <td>32</td>\n",
       "      <td>48</td>\n",
       "      <td>289</td>\n",
       "      <td>119</td>\n",
       "      <td>Hema Malini</td>\n",
       "      <td>Prem Chopra</td>\n",
       "    </tr>\n",
       "    <tr>\n",
       "      <th>3</th>\n",
       "      <td>Waris</td>\n",
       "      <td>(1954)</td>\n",
       "      <td>122 min</td>\n",
       "      <td>Drama, Family</td>\n",
       "      <td>37</td>\n",
       "      <td>9</td>\n",
       "      <td>237</td>\n",
       "      <td>322</td>\n",
       "      <td>Suraiya</td>\n",
       "      <td>Nadira</td>\n",
       "    </tr>\n",
       "    <tr>\n",
       "      <th>4</th>\n",
       "      <td>Warning</td>\n",
       "      <td>(2013)</td>\n",
       "      <td>109 min</td>\n",
       "      <td>Adventure, Thriller</td>\n",
       "      <td>19</td>\n",
       "      <td>236</td>\n",
       "      <td>123</td>\n",
       "      <td>351</td>\n",
       "      <td>Santosh Barmola</td>\n",
       "      <td>Jitin Gulati</td>\n",
       "    </tr>\n",
       "  </tbody>\n",
       "</table>\n",
       "</div>"
      ],
      "text/plain": [
       "                Name    Year Duration                Genre  Rating Votes  \\\n",
       "0  War Chhod Na Yaar  (2013)  119 min          Comedy, War      27   936   \n",
       "1             Wardat  (1981)  133 min     Action, Thriller      41    51   \n",
       "2              Waris  (1969)      NaN        Comedy, Drama      32    48   \n",
       "3              Waris  (1954)  122 min        Drama, Family      37     9   \n",
       "4            Warning  (2013)  109 min  Adventure, Thriller      19   236   \n",
       "\n",
       "   Director  Actor 1          Actor 2        Actor 3  \n",
       "0       112      291    Soha Ali Khan  Javed Jaffrey  \n",
       "1       308      184     Kaajal Kiran  Shakti Kapoor  \n",
       "2       289      119      Hema Malini    Prem Chopra  \n",
       "3       237      322          Suraiya         Nadira  \n",
       "4       123      351  Santosh Barmola   Jitin Gulati  "
      ]
     },
     "execution_count": 39,
     "metadata": {},
     "output_type": "execute_result"
    }
   ],
   "source": [
    "le = LabelEncoder()\n",
    "df1['Actor 1'] = le.fit_transform(df1['Actor 1'])\n",
    "df1.head()"
   ]
  },
  {
   "cell_type": "code",
   "execution_count": 40,
   "metadata": {},
   "outputs": [
    {
     "data": {
      "text/html": [
       "<div>\n",
       "<style scoped>\n",
       "    .dataframe tbody tr th:only-of-type {\n",
       "        vertical-align: middle;\n",
       "    }\n",
       "\n",
       "    .dataframe tbody tr th {\n",
       "        vertical-align: top;\n",
       "    }\n",
       "\n",
       "    .dataframe thead th {\n",
       "        text-align: right;\n",
       "    }\n",
       "</style>\n",
       "<table border=\"1\" class=\"dataframe\">\n",
       "  <thead>\n",
       "    <tr style=\"text-align: right;\">\n",
       "      <th></th>\n",
       "      <th>Name</th>\n",
       "      <th>Year</th>\n",
       "      <th>Duration</th>\n",
       "      <th>Genre</th>\n",
       "      <th>Rating</th>\n",
       "      <th>Votes</th>\n",
       "      <th>Director</th>\n",
       "      <th>Actor 1</th>\n",
       "      <th>Actor 2</th>\n",
       "      <th>Actor 3</th>\n",
       "    </tr>\n",
       "  </thead>\n",
       "  <tbody>\n",
       "    <tr>\n",
       "      <th>0</th>\n",
       "      <td>War Chhod Na Yaar</td>\n",
       "      <td>(2013)</td>\n",
       "      <td>119 min</td>\n",
       "      <td>44</td>\n",
       "      <td>27</td>\n",
       "      <td>936</td>\n",
       "      <td>112</td>\n",
       "      <td>291</td>\n",
       "      <td>Soha Ali Khan</td>\n",
       "      <td>Javed Jaffrey</td>\n",
       "    </tr>\n",
       "    <tr>\n",
       "      <th>1</th>\n",
       "      <td>Wardat</td>\n",
       "      <td>(1981)</td>\n",
       "      <td>133 min</td>\n",
       "      <td>23</td>\n",
       "      <td>41</td>\n",
       "      <td>51</td>\n",
       "      <td>308</td>\n",
       "      <td>184</td>\n",
       "      <td>Kaajal Kiran</td>\n",
       "      <td>Shakti Kapoor</td>\n",
       "    </tr>\n",
       "    <tr>\n",
       "      <th>2</th>\n",
       "      <td>Waris</td>\n",
       "      <td>(1969)</td>\n",
       "      <td>NaN</td>\n",
       "      <td>36</td>\n",
       "      <td>32</td>\n",
       "      <td>48</td>\n",
       "      <td>289</td>\n",
       "      <td>119</td>\n",
       "      <td>Hema Malini</td>\n",
       "      <td>Prem Chopra</td>\n",
       "    </tr>\n",
       "    <tr>\n",
       "      <th>3</th>\n",
       "      <td>Waris</td>\n",
       "      <td>(1954)</td>\n",
       "      <td>122 min</td>\n",
       "      <td>63</td>\n",
       "      <td>37</td>\n",
       "      <td>9</td>\n",
       "      <td>237</td>\n",
       "      <td>322</td>\n",
       "      <td>Suraiya</td>\n",
       "      <td>Nadira</td>\n",
       "    </tr>\n",
       "    <tr>\n",
       "      <th>4</th>\n",
       "      <td>Warning</td>\n",
       "      <td>(2013)</td>\n",
       "      <td>109 min</td>\n",
       "      <td>30</td>\n",
       "      <td>19</td>\n",
       "      <td>236</td>\n",
       "      <td>123</td>\n",
       "      <td>351</td>\n",
       "      <td>Santosh Barmola</td>\n",
       "      <td>Jitin Gulati</td>\n",
       "    </tr>\n",
       "  </tbody>\n",
       "</table>\n",
       "</div>"
      ],
      "text/plain": [
       "                Name    Year Duration  Genre  Rating Votes  Director  Actor 1  \\\n",
       "0  War Chhod Na Yaar  (2013)  119 min     44      27   936       112      291   \n",
       "1             Wardat  (1981)  133 min     23      41    51       308      184   \n",
       "2              Waris  (1969)      NaN     36      32    48       289      119   \n",
       "3              Waris  (1954)  122 min     63      37     9       237      322   \n",
       "4            Warning  (2013)  109 min     30      19   236       123      351   \n",
       "\n",
       "           Actor 2        Actor 3  \n",
       "0    Soha Ali Khan  Javed Jaffrey  \n",
       "1     Kaajal Kiran  Shakti Kapoor  \n",
       "2      Hema Malini    Prem Chopra  \n",
       "3          Suraiya         Nadira  \n",
       "4  Santosh Barmola   Jitin Gulati  "
      ]
     },
     "execution_count": 40,
     "metadata": {},
     "output_type": "execute_result"
    }
   ],
   "source": [
    "le = LabelEncoder()\n",
    "df1['Genre'] = le.fit_transform(df1['Genre'])\n",
    "df1.head()"
   ]
  },
  {
   "cell_type": "code",
   "execution_count": 42,
   "metadata": {},
   "outputs": [
    {
     "data": {
      "text/html": [
       "<div>\n",
       "<style scoped>\n",
       "    .dataframe tbody tr th:only-of-type {\n",
       "        vertical-align: middle;\n",
       "    }\n",
       "\n",
       "    .dataframe tbody tr th {\n",
       "        vertical-align: top;\n",
       "    }\n",
       "\n",
       "    .dataframe thead th {\n",
       "        text-align: right;\n",
       "    }\n",
       "</style>\n",
       "<table border=\"1\" class=\"dataframe\">\n",
       "  <thead>\n",
       "    <tr style=\"text-align: right;\">\n",
       "      <th></th>\n",
       "      <th>Name</th>\n",
       "      <th>Year</th>\n",
       "      <th>Duration</th>\n",
       "      <th>Genre</th>\n",
       "      <th>Rating</th>\n",
       "      <th>Votes</th>\n",
       "      <th>Director</th>\n",
       "      <th>Actor 1</th>\n",
       "      <th>Actor 2</th>\n",
       "      <th>Actor 3</th>\n",
       "    </tr>\n",
       "  </thead>\n",
       "  <tbody>\n",
       "    <tr>\n",
       "      <th>0</th>\n",
       "      <td>War Chhod Na Yaar</td>\n",
       "      <td>(2013)</td>\n",
       "      <td>119 min</td>\n",
       "      <td>44</td>\n",
       "      <td>27</td>\n",
       "      <td>936</td>\n",
       "      <td>112</td>\n",
       "      <td>291</td>\n",
       "      <td>312</td>\n",
       "      <td>124</td>\n",
       "    </tr>\n",
       "    <tr>\n",
       "      <th>1</th>\n",
       "      <td>Wardat</td>\n",
       "      <td>(1981)</td>\n",
       "      <td>133 min</td>\n",
       "      <td>23</td>\n",
       "      <td>41</td>\n",
       "      <td>51</td>\n",
       "      <td>308</td>\n",
       "      <td>184</td>\n",
       "      <td>125</td>\n",
       "      <td>297</td>\n",
       "    </tr>\n",
       "    <tr>\n",
       "      <th>2</th>\n",
       "      <td>Waris</td>\n",
       "      <td>(1969)</td>\n",
       "      <td>NaN</td>\n",
       "      <td>36</td>\n",
       "      <td>32</td>\n",
       "      <td>48</td>\n",
       "      <td>289</td>\n",
       "      <td>119</td>\n",
       "      <td>97</td>\n",
       "      <td>230</td>\n",
       "    </tr>\n",
       "    <tr>\n",
       "      <th>3</th>\n",
       "      <td>Waris</td>\n",
       "      <td>(1954)</td>\n",
       "      <td>122 min</td>\n",
       "      <td>63</td>\n",
       "      <td>37</td>\n",
       "      <td>9</td>\n",
       "      <td>237</td>\n",
       "      <td>322</td>\n",
       "      <td>326</td>\n",
       "      <td>194</td>\n",
       "    </tr>\n",
       "    <tr>\n",
       "      <th>4</th>\n",
       "      <td>Warning</td>\n",
       "      <td>(2013)</td>\n",
       "      <td>109 min</td>\n",
       "      <td>30</td>\n",
       "      <td>19</td>\n",
       "      <td>236</td>\n",
       "      <td>123</td>\n",
       "      <td>351</td>\n",
       "      <td>280</td>\n",
       "      <td>128</td>\n",
       "    </tr>\n",
       "  </tbody>\n",
       "</table>\n",
       "</div>"
      ],
      "text/plain": [
       "                Name    Year Duration  Genre  Rating Votes  Director  Actor 1  \\\n",
       "0  War Chhod Na Yaar  (2013)  119 min     44      27   936       112      291   \n",
       "1             Wardat  (1981)  133 min     23      41    51       308      184   \n",
       "2              Waris  (1969)      NaN     36      32    48       289      119   \n",
       "3              Waris  (1954)  122 min     63      37     9       237      322   \n",
       "4            Warning  (2013)  109 min     30      19   236       123      351   \n",
       "\n",
       "   Actor 2  Actor 3  \n",
       "0      312      124  \n",
       "1      125      297  \n",
       "2       97      230  \n",
       "3      326      194  \n",
       "4      280      128  "
      ]
     },
     "execution_count": 42,
     "metadata": {},
     "output_type": "execute_result"
    }
   ],
   "source": [
    "le = LabelEncoder()\n",
    "df1['Actor 2'] = le.fit_transform(df1['Actor 2'])\n",
    "df1.head()"
   ]
  },
  {
   "cell_type": "code",
   "execution_count": 41,
   "metadata": {},
   "outputs": [
    {
     "data": {
      "text/html": [
       "<div>\n",
       "<style scoped>\n",
       "    .dataframe tbody tr th:only-of-type {\n",
       "        vertical-align: middle;\n",
       "    }\n",
       "\n",
       "    .dataframe tbody tr th {\n",
       "        vertical-align: top;\n",
       "    }\n",
       "\n",
       "    .dataframe thead th {\n",
       "        text-align: right;\n",
       "    }\n",
       "</style>\n",
       "<table border=\"1\" class=\"dataframe\">\n",
       "  <thead>\n",
       "    <tr style=\"text-align: right;\">\n",
       "      <th></th>\n",
       "      <th>Name</th>\n",
       "      <th>Year</th>\n",
       "      <th>Duration</th>\n",
       "      <th>Genre</th>\n",
       "      <th>Rating</th>\n",
       "      <th>Votes</th>\n",
       "      <th>Director</th>\n",
       "      <th>Actor 1</th>\n",
       "      <th>Actor 2</th>\n",
       "      <th>Actor 3</th>\n",
       "    </tr>\n",
       "  </thead>\n",
       "  <tbody>\n",
       "    <tr>\n",
       "      <th>0</th>\n",
       "      <td>War Chhod Na Yaar</td>\n",
       "      <td>(2013)</td>\n",
       "      <td>119 min</td>\n",
       "      <td>44</td>\n",
       "      <td>27</td>\n",
       "      <td>936</td>\n",
       "      <td>112</td>\n",
       "      <td>291</td>\n",
       "      <td>Soha Ali Khan</td>\n",
       "      <td>124</td>\n",
       "    </tr>\n",
       "    <tr>\n",
       "      <th>1</th>\n",
       "      <td>Wardat</td>\n",
       "      <td>(1981)</td>\n",
       "      <td>133 min</td>\n",
       "      <td>23</td>\n",
       "      <td>41</td>\n",
       "      <td>51</td>\n",
       "      <td>308</td>\n",
       "      <td>184</td>\n",
       "      <td>Kaajal Kiran</td>\n",
       "      <td>297</td>\n",
       "    </tr>\n",
       "    <tr>\n",
       "      <th>2</th>\n",
       "      <td>Waris</td>\n",
       "      <td>(1969)</td>\n",
       "      <td>NaN</td>\n",
       "      <td>36</td>\n",
       "      <td>32</td>\n",
       "      <td>48</td>\n",
       "      <td>289</td>\n",
       "      <td>119</td>\n",
       "      <td>Hema Malini</td>\n",
       "      <td>230</td>\n",
       "    </tr>\n",
       "    <tr>\n",
       "      <th>3</th>\n",
       "      <td>Waris</td>\n",
       "      <td>(1954)</td>\n",
       "      <td>122 min</td>\n",
       "      <td>63</td>\n",
       "      <td>37</td>\n",
       "      <td>9</td>\n",
       "      <td>237</td>\n",
       "      <td>322</td>\n",
       "      <td>Suraiya</td>\n",
       "      <td>194</td>\n",
       "    </tr>\n",
       "    <tr>\n",
       "      <th>4</th>\n",
       "      <td>Warning</td>\n",
       "      <td>(2013)</td>\n",
       "      <td>109 min</td>\n",
       "      <td>30</td>\n",
       "      <td>19</td>\n",
       "      <td>236</td>\n",
       "      <td>123</td>\n",
       "      <td>351</td>\n",
       "      <td>Santosh Barmola</td>\n",
       "      <td>128</td>\n",
       "    </tr>\n",
       "  </tbody>\n",
       "</table>\n",
       "</div>"
      ],
      "text/plain": [
       "                Name    Year Duration  Genre  Rating Votes  Director  Actor 1  \\\n",
       "0  War Chhod Na Yaar  (2013)  119 min     44      27   936       112      291   \n",
       "1             Wardat  (1981)  133 min     23      41    51       308      184   \n",
       "2              Waris  (1969)      NaN     36      32    48       289      119   \n",
       "3              Waris  (1954)  122 min     63      37     9       237      322   \n",
       "4            Warning  (2013)  109 min     30      19   236       123      351   \n",
       "\n",
       "           Actor 2  Actor 3  \n",
       "0    Soha Ali Khan      124  \n",
       "1     Kaajal Kiran      297  \n",
       "2      Hema Malini      230  \n",
       "3          Suraiya      194  \n",
       "4  Santosh Barmola      128  "
      ]
     },
     "execution_count": 41,
     "metadata": {},
     "output_type": "execute_result"
    }
   ],
   "source": [
    "le = LabelEncoder()\n",
    "df1['Actor 3'] = le.fit_transform(df1['Actor 3'])\n",
    "df1.head()"
   ]
  },
  {
   "cell_type": "code",
   "execution_count": 43,
   "metadata": {},
   "outputs": [
    {
     "data": {
      "text/plain": [
       "Rating\n",
       "0      75.000000\n",
       "1     165.000000\n",
       "2     382.000000\n",
       "3     301.333333\n",
       "4     132.000000\n",
       "5     167.666667\n",
       "6     209.800000\n",
       "7     221.250000\n",
       "8     301.500000\n",
       "9     169.500000\n",
       "10    275.750000\n",
       "11     57.666667\n",
       "12    216.000000\n",
       "13    338.333333\n",
       "14    250.250000\n",
       "15     35.000000\n",
       "16    188.333333\n",
       "17    245.875000\n",
       "18    183.400000\n",
       "19    161.444444\n",
       "20    151.222222\n",
       "21    198.000000\n",
       "22    256.200000\n",
       "23    245.600000\n",
       "24    148.600000\n",
       "25    197.800000\n",
       "26    200.600000\n",
       "27    194.727273\n",
       "28    180.666667\n",
       "29    284.400000\n",
       "30    281.500000\n",
       "31    290.000000\n",
       "32    163.833333\n",
       "33    234.833333\n",
       "34    204.200000\n",
       "35    206.000000\n",
       "36    304.111111\n",
       "37    199.909091\n",
       "38    274.714286\n",
       "39    249.000000\n",
       "40    110.500000\n",
       "41    175.200000\n",
       "42    238.250000\n",
       "43    188.166667\n",
       "44    224.625000\n",
       "45     98.500000\n",
       "46    364.500000\n",
       "47    202.000000\n",
       "48    268.000000\n",
       "49    245.875000\n",
       "50    190.200000\n",
       "51    202.666667\n",
       "52    209.000000\n",
       "53     82.000000\n",
       "54    388.000000\n",
       "55    379.500000\n",
       "56      8.000000\n",
       "57    179.000000\n",
       "58     39.000000\n",
       "59    230.082609\n",
       "Name: Director, dtype: float64"
      ]
     },
     "execution_count": 43,
     "metadata": {},
     "output_type": "execute_result"
    }
   ],
   "source": [
    "df1.groupby('Rating')[('Director')].mean()"
   ]
  },
  {
   "cell_type": "code",
   "execution_count": 47,
   "metadata": {},
   "outputs": [
    {
     "data": {
      "text/plain": [
       "Rating\n",
       "0     262.000000\n",
       "1     191.333333\n",
       "2     336.000000\n",
       "3      56.666667\n",
       "4     251.000000\n",
       "5     176.333333\n",
       "6     218.400000\n",
       "7     168.750000\n",
       "8     189.000000\n",
       "9      91.000000\n",
       "10    199.750000\n",
       "11    116.666667\n",
       "12    195.750000\n",
       "13    135.333333\n",
       "14    208.750000\n",
       "15    121.500000\n",
       "16    164.666667\n",
       "17    186.125000\n",
       "18    124.000000\n",
       "19    195.333333\n",
       "20    186.222222\n",
       "21    122.833333\n",
       "22    164.900000\n",
       "23    136.800000\n",
       "24     95.600000\n",
       "25    176.800000\n",
       "26    136.800000\n",
       "27    205.727273\n",
       "28    208.666667\n",
       "29    178.000000\n",
       "30    276.166667\n",
       "31    214.714286\n",
       "32    185.666667\n",
       "33    168.833333\n",
       "34    221.800000\n",
       "35    183.875000\n",
       "36    262.111111\n",
       "37    256.181818\n",
       "38    184.000000\n",
       "39    174.400000\n",
       "40    130.500000\n",
       "41    199.300000\n",
       "42    170.000000\n",
       "43    171.333333\n",
       "44    168.375000\n",
       "45    230.750000\n",
       "46    169.000000\n",
       "47      9.000000\n",
       "48    241.500000\n",
       "49    163.875000\n",
       "50    168.800000\n",
       "51    163.000000\n",
       "52     31.000000\n",
       "53    332.000000\n",
       "54    263.000000\n",
       "55    125.000000\n",
       "56    226.000000\n",
       "57    333.000000\n",
       "58    299.000000\n",
       "59    215.004348\n",
       "Name: Actor 1, dtype: float64"
      ]
     },
     "execution_count": 47,
     "metadata": {},
     "output_type": "execute_result"
    }
   ],
   "source": [
    "df1.groupby('Rating')[('Actor 1')].mean()"
   ]
  },
  {
   "cell_type": "code",
   "execution_count": 46,
   "metadata": {},
   "outputs": [
    {
     "data": {
      "text/plain": [
       "Rating\n",
       "0     108.000000\n",
       "1     206.666667\n",
       "2      86.000000\n",
       "3     127.000000\n",
       "4     323.000000\n",
       "5     173.333333\n",
       "6     190.600000\n",
       "7     241.500000\n",
       "8     254.000000\n",
       "9     342.500000\n",
       "10    278.250000\n",
       "11    215.333333\n",
       "12    129.000000\n",
       "13    121.333333\n",
       "14    108.750000\n",
       "15    136.500000\n",
       "16    185.000000\n",
       "17    239.875000\n",
       "18    240.400000\n",
       "19    250.888889\n",
       "20    174.000000\n",
       "21     66.333333\n",
       "22    191.000000\n",
       "23    176.200000\n",
       "24    153.400000\n",
       "25    214.400000\n",
       "26    143.000000\n",
       "27    221.363636\n",
       "28    218.333333\n",
       "29    255.400000\n",
       "30    199.000000\n",
       "31    226.285714\n",
       "32    172.000000\n",
       "33    170.666667\n",
       "34    195.800000\n",
       "35    155.875000\n",
       "36    174.222222\n",
       "37    245.454545\n",
       "38    254.428571\n",
       "39    291.400000\n",
       "40    171.500000\n",
       "41    173.900000\n",
       "42     89.750000\n",
       "43    227.166667\n",
       "44    193.875000\n",
       "45    213.750000\n",
       "46    110.500000\n",
       "47      3.000000\n",
       "48    282.500000\n",
       "49    192.250000\n",
       "50     69.800000\n",
       "51    230.333333\n",
       "52    245.500000\n",
       "53    303.000000\n",
       "54    173.000000\n",
       "55     48.500000\n",
       "56      1.000000\n",
       "57     32.000000\n",
       "58     33.000000\n",
       "59    235.460870\n",
       "Name: Actor 2, dtype: float64"
      ]
     },
     "execution_count": 46,
     "metadata": {},
     "output_type": "execute_result"
    }
   ],
   "source": [
    "df1.groupby('Rating')[('Actor 2')].mean()"
   ]
  },
  {
   "cell_type": "code",
   "execution_count": 45,
   "metadata": {},
   "outputs": [
    {
     "data": {
      "text/plain": [
       "Rating\n",
       "0     316.000000\n",
       "1     213.666667\n",
       "2      81.000000\n",
       "3     129.333333\n",
       "4     112.000000\n",
       "5     205.000000\n",
       "6     108.600000\n",
       "7     185.500000\n",
       "8     266.500000\n",
       "9     195.500000\n",
       "10    191.500000\n",
       "11    294.333333\n",
       "12    128.250000\n",
       "13    187.666667\n",
       "14    233.000000\n",
       "15    163.000000\n",
       "16    124.333333\n",
       "17    199.625000\n",
       "18    111.600000\n",
       "19    199.111111\n",
       "20    167.555556\n",
       "21    154.166667\n",
       "22    188.400000\n",
       "23    150.400000\n",
       "24     99.600000\n",
       "25    161.200000\n",
       "26    189.400000\n",
       "27    160.454545\n",
       "28    170.333333\n",
       "29    163.600000\n",
       "30    210.000000\n",
       "31    191.285714\n",
       "32    211.833333\n",
       "33    249.333333\n",
       "34    140.800000\n",
       "35    166.125000\n",
       "36    204.111111\n",
       "37    162.909091\n",
       "38    200.857143\n",
       "39    165.200000\n",
       "40    279.500000\n",
       "41    192.700000\n",
       "42    191.500000\n",
       "43    169.000000\n",
       "44    202.250000\n",
       "45    113.000000\n",
       "46    149.000000\n",
       "47    258.000000\n",
       "48    265.250000\n",
       "49    217.375000\n",
       "50    171.400000\n",
       "51    139.000000\n",
       "52    192.000000\n",
       "53    277.000000\n",
       "54    312.000000\n",
       "55     24.500000\n",
       "56     18.000000\n",
       "57    336.000000\n",
       "58     34.000000\n",
       "59    244.173913\n",
       "Name: Actor 3, dtype: float64"
      ]
     },
     "execution_count": 45,
     "metadata": {},
     "output_type": "execute_result"
    }
   ],
   "source": [
    "df1.groupby('Rating')[('Actor 3')].mean()"
   ]
  },
  {
   "cell_type": "code",
   "execution_count": 44,
   "metadata": {},
   "outputs": [
    {
     "data": {
      "text/plain": [
       "Rating\n",
       "0      36.000000\n",
       "1      69.333333\n",
       "2      95.000000\n",
       "3      73.000000\n",
       "4     100.000000\n",
       "5      19.000000\n",
       "6      74.200000\n",
       "7      48.250000\n",
       "8      37.000000\n",
       "9      25.000000\n",
       "10     30.250000\n",
       "11     50.333333\n",
       "12     77.500000\n",
       "13     31.666667\n",
       "14     42.500000\n",
       "15     12.500000\n",
       "16     17.000000\n",
       "17     54.750000\n",
       "18     35.200000\n",
       "19     43.666667\n",
       "20     45.888889\n",
       "21     52.166667\n",
       "22     33.000000\n",
       "23     49.800000\n",
       "24     72.600000\n",
       "25     56.400000\n",
       "26     27.400000\n",
       "27     49.181818\n",
       "28     42.500000\n",
       "29     34.000000\n",
       "30     40.166667\n",
       "31     30.428571\n",
       "32     43.833333\n",
       "33     36.583333\n",
       "34     50.400000\n",
       "35     43.875000\n",
       "36     46.444444\n",
       "37     42.636364\n",
       "38     67.714286\n",
       "39     31.600000\n",
       "40     61.000000\n",
       "41     55.200000\n",
       "42     66.250000\n",
       "43     33.833333\n",
       "44     45.750000\n",
       "45     55.500000\n",
       "46     52.500000\n",
       "47     19.000000\n",
       "48     49.000000\n",
       "49     53.000000\n",
       "50     50.000000\n",
       "51     37.000000\n",
       "52     60.000000\n",
       "53     74.000000\n",
       "54     55.000000\n",
       "55     46.500000\n",
       "56     35.000000\n",
       "57     60.000000\n",
       "58     75.000000\n",
       "59     64.386957\n",
       "Name: Genre, dtype: float64"
      ]
     },
     "execution_count": 44,
     "metadata": {},
     "output_type": "execute_result"
    }
   ],
   "source": [
    "df1.groupby('Rating')[('Genre')].mean()"
   ]
  },
  {
   "cell_type": "code",
   "execution_count": 50,
   "metadata": {},
   "outputs": [
    {
     "name": "stdout",
     "output_type": "stream",
     "text": [
      "[[-0.87642404 -0.86638411]\n",
      " [-0.09202342  0.67517975]\n",
      " [-0.59628096  0.52574244]\n",
      " ...\n",
      " [ 0.91649166 -0.30796046]\n",
      " [ 0.91649166  1.60326412]\n",
      " [-0.42819512 -0.42593729]]\n"
     ]
    }
   ],
   "source": [
    "scale = StandardScaler()\n",
    "x = df1[['Rating','Director']]\n",
    "scaled_x = scale.fit_transform(x)\n",
    "print(scaled_x)"
   ]
  },
  {
   "cell_type": "code",
   "execution_count": 54,
   "metadata": {},
   "outputs": [
    {
     "name": "stdout",
     "output_type": "stream",
     "text": [
      "[[-0.87642404  0.81674821]\n",
      " [-0.09202342 -0.1282014 ]\n",
      " [-0.59628096 -0.70223621]\n",
      " ...\n",
      " [ 0.91649166  0.68427864]\n",
      " [ 0.91649166  1.39961433]\n",
      " [-0.42819512 -1.03782579]]\n"
     ]
    }
   ],
   "source": [
    "scale = StandardScaler()\n",
    "x = df1[['Rating','Actor 1']]\n",
    "scaled_x = scale.fit_transform(x)\n",
    "print(scaled_x)"
   ]
  },
  {
   "cell_type": "code",
   "execution_count": 53,
   "metadata": {},
   "outputs": [
    {
     "name": "stdout",
     "output_type": "stream",
     "text": [
      "[[-0.87642404  0.85882232]\n",
      " [-0.09202342 -0.74314689]\n",
      " [-0.59628096 -0.98301394]\n",
      " ...\n",
      " [ 0.91649166  1.33855641]\n",
      " [ 0.91649166  1.33855641]\n",
      " [-0.42819512 -0.85451373]]\n"
     ]
    }
   ],
   "source": [
    "scale = StandardScaler()\n",
    "x = df1[['Rating','Actor 2']]\n",
    "scaled_x = scale.fit_transform(x)\n",
    "print(scaled_x)"
   ]
  },
  {
   "cell_type": "code",
   "execution_count": 52,
   "metadata": {},
   "outputs": [
    {
     "name": "stdout",
     "output_type": "stream",
     "text": [
      "[[-0.87642404 -0.7379986 ]\n",
      " [-0.09202342  0.74685135]\n",
      " [-0.59628096  0.17179385]\n",
      " ...\n",
      " [ 0.91649166  1.27041115]\n",
      " [ 0.91649166  1.27041115]\n",
      " [-0.42819512 -1.44180031]]\n"
     ]
    }
   ],
   "source": [
    "scale = StandardScaler()\n",
    "x = df1[['Rating','Actor 3']]\n",
    "scaled_x = scale.fit_transform(x)\n",
    "print(scaled_x)"
   ]
  },
  {
   "cell_type": "code",
   "execution_count": 51,
   "metadata": {},
   "outputs": [
    {
     "name": "stdout",
     "output_type": "stream",
     "text": [
      "[[-0.87642404 -0.31950062]\n",
      " [-0.09202342 -0.94913596]\n",
      " [-0.59628096 -0.5593617 ]\n",
      " ...\n",
      " [ 0.91649166 -1.63873658]\n",
      " [ 0.91649166 -1.63873658]\n",
      " [-0.42819512 -1.18899705]]\n"
     ]
    }
   ],
   "source": [
    "scale = StandardScaler()\n",
    "x = df1[['Rating','Genre']]\n",
    "scaled_x = scale.fit_transform(x)\n",
    "print(scaled_x)"
   ]
  },
  {
   "cell_type": "code",
   "execution_count": 55,
   "metadata": {},
   "outputs": [
    {
     "name": "stdout",
     "output_type": "stream",
     "text": [
      "[34.7443929]\n"
     ]
    },
    {
     "name": "stderr",
     "output_type": "stream",
     "text": [
      "c:\\Users\\ardhe\\anaconda3\\Lib\\site-packages\\sklearn\\base.py:464: UserWarning: X does not have valid feature names, but StandardScaler was fitted with feature names\n",
      "  warnings.warn(\n"
     ]
    }
   ],
   "source": [
    "scale = StandardScaler()\n",
    "x= df1[['Director','Genre']]\n",
    "y = df1['Rating']\n",
    "scaled_x = scale.fit_transform(x)\n",
    "regr = linear_model.LinearRegression()\n",
    "regr.fit(scaled_x,y)\n",
    "scaled = scale.transform([[25,0]])\n",
    "predicted_Rating = regr.predict([scaled[0]])\n",
    "print(predicted_Rating)\n"
   ]
  },
  {
   "cell_type": "code",
   "execution_count": 56,
   "metadata": {},
   "outputs": [
    {
     "name": "stdout",
     "output_type": "stream",
     "text": [
      "[37.57603342]\n"
     ]
    },
    {
     "name": "stderr",
     "output_type": "stream",
     "text": [
      "c:\\Users\\ardhe\\anaconda3\\Lib\\site-packages\\sklearn\\base.py:464: UserWarning: X does not have valid feature names, but StandardScaler was fitted with feature names\n",
      "  warnings.warn(\n"
     ]
    }
   ],
   "source": [
    "scale = StandardScaler()\n",
    "x= df1[['Director','Actor 1']]\n",
    "y = df1['Rating']\n",
    "scaled_x = scale.fit_transform(x)\n",
    "regr = linear_model.LinearRegression()\n",
    "regr.fit(scaled_x,y)\n",
    "scaled = scale.transform([[25,0]])\n",
    "predicted_Rating = regr.predict([scaled[0]])\n",
    "print(predicted_Rating)\n"
   ]
  },
  {
   "cell_type": "code",
   "execution_count": 57,
   "metadata": {},
   "outputs": [
    {
     "name": "stdout",
     "output_type": "stream",
     "text": [
      "[37.17854185]\n"
     ]
    },
    {
     "name": "stderr",
     "output_type": "stream",
     "text": [
      "c:\\Users\\ardhe\\anaconda3\\Lib\\site-packages\\sklearn\\base.py:464: UserWarning: X does not have valid feature names, but StandardScaler was fitted with feature names\n",
      "  warnings.warn(\n"
     ]
    }
   ],
   "source": [
    "scale = StandardScaler()\n",
    "x= df1[['Director','Actor 2']]\n",
    "y = df1['Rating']\n",
    "scaled_x = scale.fit_transform(x)\n",
    "regr = linear_model.LinearRegression()\n",
    "regr.fit(scaled_x,y)\n",
    "scaled = scale.transform([[25,0]])\n",
    "predicted_Rating = regr.predict([scaled[0]])\n",
    "print(predicted_Rating)\n"
   ]
  },
  {
   "cell_type": "code",
   "execution_count": 58,
   "metadata": {},
   "outputs": [
    {
     "name": "stdout",
     "output_type": "stream",
     "text": [
      "[34.42327994]\n"
     ]
    },
    {
     "name": "stderr",
     "output_type": "stream",
     "text": [
      "c:\\Users\\ardhe\\anaconda3\\Lib\\site-packages\\sklearn\\base.py:464: UserWarning: X does not have valid feature names, but StandardScaler was fitted with feature names\n",
      "  warnings.warn(\n"
     ]
    }
   ],
   "source": [
    "scale = StandardScaler()\n",
    "x= df1[['Director','Actor 3']]\n",
    "y = df1['Rating']\n",
    "scaled_x = scale.fit_transform(x)\n",
    "regr = linear_model.LinearRegression()\n",
    "regr.fit(scaled_x,y)\n",
    "scaled = scale.transform([[25,0]])\n",
    "predicted_Rating = regr.predict([scaled[0]])\n",
    "print(predicted_Rating)\n"
   ]
  },
  {
   "cell_type": "code",
   "execution_count": 61,
   "metadata": {},
   "outputs": [
    {
     "name": "stdout",
     "output_type": "stream",
     "text": [
      "[33.04892263]\n"
     ]
    },
    {
     "name": "stderr",
     "output_type": "stream",
     "text": [
      "c:\\Users\\ardhe\\anaconda3\\Lib\\site-packages\\sklearn\\base.py:464: UserWarning: X does not have valid feature names, but StandardScaler was fitted with feature names\n",
      "  warnings.warn(\n"
     ]
    }
   ],
   "source": [
    "scale = StandardScaler()\n",
    "x= df1[['Actor 1','Genre']]\n",
    "y = df1['Rating']\n",
    "scaled_x = scale.fit_transform(x)\n",
    "regr = linear_model.LinearRegression()\n",
    "regr.fit(scaled_x,y)\n",
    "scaled = scale.transform([[25,0]])\n",
    "predicted_Rating = regr.predict([scaled[0]])\n",
    "print(predicted_Rating)\n"
   ]
  },
  {
   "cell_type": "code",
   "execution_count": 60,
   "metadata": {},
   "outputs": [
    {
     "name": "stdout",
     "output_type": "stream",
     "text": [
      "[33.00674698]\n"
     ]
    },
    {
     "name": "stderr",
     "output_type": "stream",
     "text": [
      "c:\\Users\\ardhe\\anaconda3\\Lib\\site-packages\\sklearn\\base.py:464: UserWarning: X does not have valid feature names, but StandardScaler was fitted with feature names\n",
      "  warnings.warn(\n"
     ]
    }
   ],
   "source": [
    "scale = StandardScaler()\n",
    "x= df1[['Actor 2','Genre']]\n",
    "y = df1['Rating']\n",
    "scaled_x = scale.fit_transform(x)\n",
    "regr = linear_model.LinearRegression()\n",
    "regr.fit(scaled_x,y)\n",
    "scaled = scale.transform([[25,0]])\n",
    "predicted_Rating = regr.predict([scaled[0]])\n",
    "print(predicted_Rating)\n"
   ]
  },
  {
   "cell_type": "code",
   "execution_count": 59,
   "metadata": {},
   "outputs": [
    {
     "name": "stdout",
     "output_type": "stream",
     "text": [
      "[30.65793374]\n"
     ]
    },
    {
     "name": "stderr",
     "output_type": "stream",
     "text": [
      "c:\\Users\\ardhe\\anaconda3\\Lib\\site-packages\\sklearn\\base.py:464: UserWarning: X does not have valid feature names, but StandardScaler was fitted with feature names\n",
      "  warnings.warn(\n"
     ]
    }
   ],
   "source": [
    "scale = StandardScaler()\n",
    "x= df1[['Actor 3','Genre']]\n",
    "y = df1['Rating']\n",
    "scaled_x = scale.fit_transform(x)\n",
    "regr = linear_model.LinearRegression()\n",
    "regr.fit(scaled_x,y)\n",
    "scaled = scale.transform([[25,0]])\n",
    "predicted_Rating = regr.predict([scaled[0]])\n",
    "print(predicted_Rating)\n"
   ]
  },
  {
   "cell_type": "code",
   "execution_count": 62,
   "metadata": {},
   "outputs": [],
   "source": [
    "x_director_genre = df1[['Director','Genre']]\n",
    "y_rating = df1['Rating']"
   ]
  },
  {
   "cell_type": "code",
   "execution_count": 63,
   "metadata": {},
   "outputs": [],
   "source": [
    "x_director_Actor1 = df1[['Director','Actor 1']]\n",
    "y_rating = df1['Rating']"
   ]
  },
  {
   "cell_type": "code",
   "execution_count": 64,
   "metadata": {},
   "outputs": [],
   "source": [
    "x_director_Actor2 = df1[['Director','Actor 2']]\n",
    "y_rating = df1['Rating']"
   ]
  },
  {
   "cell_type": "code",
   "execution_count": 65,
   "metadata": {},
   "outputs": [],
   "source": [
    "x_director_Actor3 = df1[['Director','Actor 3']]\n",
    "y_rating = df1['Rating']"
   ]
  },
  {
   "cell_type": "code",
   "execution_count": 66,
   "metadata": {},
   "outputs": [],
   "source": [
    "x_Actor1_genre = df1[['Actor 1','Genre']]\n",
    "y_rating = df1['Rating']"
   ]
  },
  {
   "cell_type": "code",
   "execution_count": 67,
   "metadata": {},
   "outputs": [],
   "source": [
    "x_Actor2_genre = df1[['Actor 2','Genre']]\n",
    "y_rating = df1['Rating']"
   ]
  },
  {
   "cell_type": "code",
   "execution_count": 68,
   "metadata": {},
   "outputs": [],
   "source": [
    "x_Actor3_genre = df1[['Actor 3','Genre']]\n",
    "y_rating = df1['Rating']"
   ]
  },
  {
   "cell_type": "code",
   "execution_count": 69,
   "metadata": {},
   "outputs": [],
   "source": [
    "x_train_director,x_test_director,y_train_genre,y_test_genre = train_test_split(x_director_genre,y_rating,test_size = 0.5,random_state = 0)"
   ]
  },
  {
   "cell_type": "code",
   "execution_count": 70,
   "metadata": {},
   "outputs": [],
   "source": [
    "x_train_Actor1,x_test_Actor1,y_train_genre,y_test_genre = train_test_split(x_Actor1_genre,y_rating,test_size = 0.5,random_state = 0)"
   ]
  },
  {
   "cell_type": "code",
   "execution_count": 71,
   "metadata": {},
   "outputs": [],
   "source": [
    "x_train_Actor2,x_test_Actor2,y_train_genre,y_test_genre = train_test_split(x_Actor2_genre,y_rating,test_size = 0.5,random_state = 0)"
   ]
  },
  {
   "cell_type": "code",
   "execution_count": 72,
   "metadata": {},
   "outputs": [],
   "source": [
    "x_train_Actor3,x_test_Actor3,y_train_genre,y_test_genre = train_test_split(x_Actor3_genre,y_rating,test_size = 0.5,random_state = 0)"
   ]
  },
  {
   "cell_type": "code",
   "execution_count": 73,
   "metadata": {},
   "outputs": [
    {
     "name": "stderr",
     "output_type": "stream",
     "text": [
      "c:\\Users\\ardhe\\anaconda3\\Lib\\site-packages\\sklearn\\linear_model\\_logistic.py:460: ConvergenceWarning: lbfgs failed to converge (status=1):\n",
      "STOP: TOTAL NO. of ITERATIONS REACHED LIMIT.\n",
      "\n",
      "Increase the number of iterations (max_iter) or scale the data as shown in:\n",
      "    https://scikit-learn.org/stable/modules/preprocessing.html\n",
      "Please also refer to the documentation for alternative solver options:\n",
      "    https://scikit-learn.org/stable/modules/linear_model.html#logistic-regression\n",
      "  n_iter_i = _check_optimize_result(\n"
     ]
    },
    {
     "data": {
      "text/html": [
       "<style>#sk-container-id-1 {color: black;}#sk-container-id-1 pre{padding: 0;}#sk-container-id-1 div.sk-toggleable {background-color: white;}#sk-container-id-1 label.sk-toggleable__label {cursor: pointer;display: block;width: 100%;margin-bottom: 0;padding: 0.3em;box-sizing: border-box;text-align: center;}#sk-container-id-1 label.sk-toggleable__label-arrow:before {content: \"▸\";float: left;margin-right: 0.25em;color: #696969;}#sk-container-id-1 label.sk-toggleable__label-arrow:hover:before {color: black;}#sk-container-id-1 div.sk-estimator:hover label.sk-toggleable__label-arrow:before {color: black;}#sk-container-id-1 div.sk-toggleable__content {max-height: 0;max-width: 0;overflow: hidden;text-align: left;background-color: #f0f8ff;}#sk-container-id-1 div.sk-toggleable__content pre {margin: 0.2em;color: black;border-radius: 0.25em;background-color: #f0f8ff;}#sk-container-id-1 input.sk-toggleable__control:checked~div.sk-toggleable__content {max-height: 200px;max-width: 100%;overflow: auto;}#sk-container-id-1 input.sk-toggleable__control:checked~label.sk-toggleable__label-arrow:before {content: \"▾\";}#sk-container-id-1 div.sk-estimator input.sk-toggleable__control:checked~label.sk-toggleable__label {background-color: #d4ebff;}#sk-container-id-1 div.sk-label input.sk-toggleable__control:checked~label.sk-toggleable__label {background-color: #d4ebff;}#sk-container-id-1 input.sk-hidden--visually {border: 0;clip: rect(1px 1px 1px 1px);clip: rect(1px, 1px, 1px, 1px);height: 1px;margin: -1px;overflow: hidden;padding: 0;position: absolute;width: 1px;}#sk-container-id-1 div.sk-estimator {font-family: monospace;background-color: #f0f8ff;border: 1px dotted black;border-radius: 0.25em;box-sizing: border-box;margin-bottom: 0.5em;}#sk-container-id-1 div.sk-estimator:hover {background-color: #d4ebff;}#sk-container-id-1 div.sk-parallel-item::after {content: \"\";width: 100%;border-bottom: 1px solid gray;flex-grow: 1;}#sk-container-id-1 div.sk-label:hover label.sk-toggleable__label {background-color: #d4ebff;}#sk-container-id-1 div.sk-serial::before {content: \"\";position: absolute;border-left: 1px solid gray;box-sizing: border-box;top: 0;bottom: 0;left: 50%;z-index: 0;}#sk-container-id-1 div.sk-serial {display: flex;flex-direction: column;align-items: center;background-color: white;padding-right: 0.2em;padding-left: 0.2em;position: relative;}#sk-container-id-1 div.sk-item {position: relative;z-index: 1;}#sk-container-id-1 div.sk-parallel {display: flex;align-items: stretch;justify-content: center;background-color: white;position: relative;}#sk-container-id-1 div.sk-item::before, #sk-container-id-1 div.sk-parallel-item::before {content: \"\";position: absolute;border-left: 1px solid gray;box-sizing: border-box;top: 0;bottom: 0;left: 50%;z-index: -1;}#sk-container-id-1 div.sk-parallel-item {display: flex;flex-direction: column;z-index: 1;position: relative;background-color: white;}#sk-container-id-1 div.sk-parallel-item:first-child::after {align-self: flex-end;width: 50%;}#sk-container-id-1 div.sk-parallel-item:last-child::after {align-self: flex-start;width: 50%;}#sk-container-id-1 div.sk-parallel-item:only-child::after {width: 0;}#sk-container-id-1 div.sk-dashed-wrapped {border: 1px dashed gray;margin: 0 0.4em 0.5em 0.4em;box-sizing: border-box;padding-bottom: 0.4em;background-color: white;}#sk-container-id-1 div.sk-label label {font-family: monospace;font-weight: bold;display: inline-block;line-height: 1.2em;}#sk-container-id-1 div.sk-label-container {text-align: center;}#sk-container-id-1 div.sk-container {/* jupyter's `normalize.less` sets `[hidden] { display: none; }` but bootstrap.min.css set `[hidden] { display: none !important; }` so we also need the `!important` here to be able to override the default hidden behavior on the sphinx rendered scikit-learn.org. See: https://github.com/scikit-learn/scikit-learn/issues/21755 */display: inline-block !important;position: relative;}#sk-container-id-1 div.sk-text-repr-fallback {display: none;}</style><div id=\"sk-container-id-1\" class=\"sk-top-container\"><div class=\"sk-text-repr-fallback\"><pre>LogisticRegression(random_state=0)</pre><b>In a Jupyter environment, please rerun this cell to show the HTML representation or trust the notebook. <br />On GitHub, the HTML representation is unable to render, please try loading this page with nbviewer.org.</b></div><div class=\"sk-container\" hidden><div class=\"sk-item\"><div class=\"sk-estimator sk-toggleable\"><input class=\"sk-toggleable__control sk-hidden--visually\" id=\"sk-estimator-id-1\" type=\"checkbox\" checked><label for=\"sk-estimator-id-1\" class=\"sk-toggleable__label sk-toggleable__label-arrow\">LogisticRegression</label><div class=\"sk-toggleable__content\"><pre>LogisticRegression(random_state=0)</pre></div></div></div></div></div>"
      ],
      "text/plain": [
       "LogisticRegression(random_state=0)"
      ]
     },
     "execution_count": 73,
     "metadata": {},
     "output_type": "execute_result"
    }
   ],
   "source": [
    "log = LR(random_state = 0)\n",
    "log.fit(x_train_director,y_train_genre)\n"
   ]
  },
  {
   "cell_type": "code",
   "execution_count": 74,
   "metadata": {},
   "outputs": [
    {
     "name": "stderr",
     "output_type": "stream",
     "text": [
      "c:\\Users\\ardhe\\anaconda3\\Lib\\site-packages\\sklearn\\linear_model\\_logistic.py:460: ConvergenceWarning: lbfgs failed to converge (status=1):\n",
      "STOP: TOTAL NO. of ITERATIONS REACHED LIMIT.\n",
      "\n",
      "Increase the number of iterations (max_iter) or scale the data as shown in:\n",
      "    https://scikit-learn.org/stable/modules/preprocessing.html\n",
      "Please also refer to the documentation for alternative solver options:\n",
      "    https://scikit-learn.org/stable/modules/linear_model.html#logistic-regression\n",
      "  n_iter_i = _check_optimize_result(\n"
     ]
    },
    {
     "data": {
      "text/html": [
       "<style>#sk-container-id-2 {color: black;}#sk-container-id-2 pre{padding: 0;}#sk-container-id-2 div.sk-toggleable {background-color: white;}#sk-container-id-2 label.sk-toggleable__label {cursor: pointer;display: block;width: 100%;margin-bottom: 0;padding: 0.3em;box-sizing: border-box;text-align: center;}#sk-container-id-2 label.sk-toggleable__label-arrow:before {content: \"▸\";float: left;margin-right: 0.25em;color: #696969;}#sk-container-id-2 label.sk-toggleable__label-arrow:hover:before {color: black;}#sk-container-id-2 div.sk-estimator:hover label.sk-toggleable__label-arrow:before {color: black;}#sk-container-id-2 div.sk-toggleable__content {max-height: 0;max-width: 0;overflow: hidden;text-align: left;background-color: #f0f8ff;}#sk-container-id-2 div.sk-toggleable__content pre {margin: 0.2em;color: black;border-radius: 0.25em;background-color: #f0f8ff;}#sk-container-id-2 input.sk-toggleable__control:checked~div.sk-toggleable__content {max-height: 200px;max-width: 100%;overflow: auto;}#sk-container-id-2 input.sk-toggleable__control:checked~label.sk-toggleable__label-arrow:before {content: \"▾\";}#sk-container-id-2 div.sk-estimator input.sk-toggleable__control:checked~label.sk-toggleable__label {background-color: #d4ebff;}#sk-container-id-2 div.sk-label input.sk-toggleable__control:checked~label.sk-toggleable__label {background-color: #d4ebff;}#sk-container-id-2 input.sk-hidden--visually {border: 0;clip: rect(1px 1px 1px 1px);clip: rect(1px, 1px, 1px, 1px);height: 1px;margin: -1px;overflow: hidden;padding: 0;position: absolute;width: 1px;}#sk-container-id-2 div.sk-estimator {font-family: monospace;background-color: #f0f8ff;border: 1px dotted black;border-radius: 0.25em;box-sizing: border-box;margin-bottom: 0.5em;}#sk-container-id-2 div.sk-estimator:hover {background-color: #d4ebff;}#sk-container-id-2 div.sk-parallel-item::after {content: \"\";width: 100%;border-bottom: 1px solid gray;flex-grow: 1;}#sk-container-id-2 div.sk-label:hover label.sk-toggleable__label {background-color: #d4ebff;}#sk-container-id-2 div.sk-serial::before {content: \"\";position: absolute;border-left: 1px solid gray;box-sizing: border-box;top: 0;bottom: 0;left: 50%;z-index: 0;}#sk-container-id-2 div.sk-serial {display: flex;flex-direction: column;align-items: center;background-color: white;padding-right: 0.2em;padding-left: 0.2em;position: relative;}#sk-container-id-2 div.sk-item {position: relative;z-index: 1;}#sk-container-id-2 div.sk-parallel {display: flex;align-items: stretch;justify-content: center;background-color: white;position: relative;}#sk-container-id-2 div.sk-item::before, #sk-container-id-2 div.sk-parallel-item::before {content: \"\";position: absolute;border-left: 1px solid gray;box-sizing: border-box;top: 0;bottom: 0;left: 50%;z-index: -1;}#sk-container-id-2 div.sk-parallel-item {display: flex;flex-direction: column;z-index: 1;position: relative;background-color: white;}#sk-container-id-2 div.sk-parallel-item:first-child::after {align-self: flex-end;width: 50%;}#sk-container-id-2 div.sk-parallel-item:last-child::after {align-self: flex-start;width: 50%;}#sk-container-id-2 div.sk-parallel-item:only-child::after {width: 0;}#sk-container-id-2 div.sk-dashed-wrapped {border: 1px dashed gray;margin: 0 0.4em 0.5em 0.4em;box-sizing: border-box;padding-bottom: 0.4em;background-color: white;}#sk-container-id-2 div.sk-label label {font-family: monospace;font-weight: bold;display: inline-block;line-height: 1.2em;}#sk-container-id-2 div.sk-label-container {text-align: center;}#sk-container-id-2 div.sk-container {/* jupyter's `normalize.less` sets `[hidden] { display: none; }` but bootstrap.min.css set `[hidden] { display: none !important; }` so we also need the `!important` here to be able to override the default hidden behavior on the sphinx rendered scikit-learn.org. See: https://github.com/scikit-learn/scikit-learn/issues/21755 */display: inline-block !important;position: relative;}#sk-container-id-2 div.sk-text-repr-fallback {display: none;}</style><div id=\"sk-container-id-2\" class=\"sk-top-container\"><div class=\"sk-text-repr-fallback\"><pre>LogisticRegression(random_state=0)</pre><b>In a Jupyter environment, please rerun this cell to show the HTML representation or trust the notebook. <br />On GitHub, the HTML representation is unable to render, please try loading this page with nbviewer.org.</b></div><div class=\"sk-container\" hidden><div class=\"sk-item\"><div class=\"sk-estimator sk-toggleable\"><input class=\"sk-toggleable__control sk-hidden--visually\" id=\"sk-estimator-id-2\" type=\"checkbox\" checked><label for=\"sk-estimator-id-2\" class=\"sk-toggleable__label sk-toggleable__label-arrow\">LogisticRegression</label><div class=\"sk-toggleable__content\"><pre>LogisticRegression(random_state=0)</pre></div></div></div></div></div>"
      ],
      "text/plain": [
       "LogisticRegression(random_state=0)"
      ]
     },
     "execution_count": 74,
     "metadata": {},
     "output_type": "execute_result"
    }
   ],
   "source": [
    "log = LR(random_state = 0)\n",
    "log.fit(x_train_Actor1,y_train_genre)\n"
   ]
  },
  {
   "cell_type": "code",
   "execution_count": 75,
   "metadata": {},
   "outputs": [
    {
     "name": "stderr",
     "output_type": "stream",
     "text": [
      "c:\\Users\\ardhe\\anaconda3\\Lib\\site-packages\\sklearn\\linear_model\\_logistic.py:460: ConvergenceWarning: lbfgs failed to converge (status=1):\n",
      "STOP: TOTAL NO. of ITERATIONS REACHED LIMIT.\n",
      "\n",
      "Increase the number of iterations (max_iter) or scale the data as shown in:\n",
      "    https://scikit-learn.org/stable/modules/preprocessing.html\n",
      "Please also refer to the documentation for alternative solver options:\n",
      "    https://scikit-learn.org/stable/modules/linear_model.html#logistic-regression\n",
      "  n_iter_i = _check_optimize_result(\n"
     ]
    },
    {
     "data": {
      "text/html": [
       "<style>#sk-container-id-3 {color: black;}#sk-container-id-3 pre{padding: 0;}#sk-container-id-3 div.sk-toggleable {background-color: white;}#sk-container-id-3 label.sk-toggleable__label {cursor: pointer;display: block;width: 100%;margin-bottom: 0;padding: 0.3em;box-sizing: border-box;text-align: center;}#sk-container-id-3 label.sk-toggleable__label-arrow:before {content: \"▸\";float: left;margin-right: 0.25em;color: #696969;}#sk-container-id-3 label.sk-toggleable__label-arrow:hover:before {color: black;}#sk-container-id-3 div.sk-estimator:hover label.sk-toggleable__label-arrow:before {color: black;}#sk-container-id-3 div.sk-toggleable__content {max-height: 0;max-width: 0;overflow: hidden;text-align: left;background-color: #f0f8ff;}#sk-container-id-3 div.sk-toggleable__content pre {margin: 0.2em;color: black;border-radius: 0.25em;background-color: #f0f8ff;}#sk-container-id-3 input.sk-toggleable__control:checked~div.sk-toggleable__content {max-height: 200px;max-width: 100%;overflow: auto;}#sk-container-id-3 input.sk-toggleable__control:checked~label.sk-toggleable__label-arrow:before {content: \"▾\";}#sk-container-id-3 div.sk-estimator input.sk-toggleable__control:checked~label.sk-toggleable__label {background-color: #d4ebff;}#sk-container-id-3 div.sk-label input.sk-toggleable__control:checked~label.sk-toggleable__label {background-color: #d4ebff;}#sk-container-id-3 input.sk-hidden--visually {border: 0;clip: rect(1px 1px 1px 1px);clip: rect(1px, 1px, 1px, 1px);height: 1px;margin: -1px;overflow: hidden;padding: 0;position: absolute;width: 1px;}#sk-container-id-3 div.sk-estimator {font-family: monospace;background-color: #f0f8ff;border: 1px dotted black;border-radius: 0.25em;box-sizing: border-box;margin-bottom: 0.5em;}#sk-container-id-3 div.sk-estimator:hover {background-color: #d4ebff;}#sk-container-id-3 div.sk-parallel-item::after {content: \"\";width: 100%;border-bottom: 1px solid gray;flex-grow: 1;}#sk-container-id-3 div.sk-label:hover label.sk-toggleable__label {background-color: #d4ebff;}#sk-container-id-3 div.sk-serial::before {content: \"\";position: absolute;border-left: 1px solid gray;box-sizing: border-box;top: 0;bottom: 0;left: 50%;z-index: 0;}#sk-container-id-3 div.sk-serial {display: flex;flex-direction: column;align-items: center;background-color: white;padding-right: 0.2em;padding-left: 0.2em;position: relative;}#sk-container-id-3 div.sk-item {position: relative;z-index: 1;}#sk-container-id-3 div.sk-parallel {display: flex;align-items: stretch;justify-content: center;background-color: white;position: relative;}#sk-container-id-3 div.sk-item::before, #sk-container-id-3 div.sk-parallel-item::before {content: \"\";position: absolute;border-left: 1px solid gray;box-sizing: border-box;top: 0;bottom: 0;left: 50%;z-index: -1;}#sk-container-id-3 div.sk-parallel-item {display: flex;flex-direction: column;z-index: 1;position: relative;background-color: white;}#sk-container-id-3 div.sk-parallel-item:first-child::after {align-self: flex-end;width: 50%;}#sk-container-id-3 div.sk-parallel-item:last-child::after {align-self: flex-start;width: 50%;}#sk-container-id-3 div.sk-parallel-item:only-child::after {width: 0;}#sk-container-id-3 div.sk-dashed-wrapped {border: 1px dashed gray;margin: 0 0.4em 0.5em 0.4em;box-sizing: border-box;padding-bottom: 0.4em;background-color: white;}#sk-container-id-3 div.sk-label label {font-family: monospace;font-weight: bold;display: inline-block;line-height: 1.2em;}#sk-container-id-3 div.sk-label-container {text-align: center;}#sk-container-id-3 div.sk-container {/* jupyter's `normalize.less` sets `[hidden] { display: none; }` but bootstrap.min.css set `[hidden] { display: none !important; }` so we also need the `!important` here to be able to override the default hidden behavior on the sphinx rendered scikit-learn.org. See: https://github.com/scikit-learn/scikit-learn/issues/21755 */display: inline-block !important;position: relative;}#sk-container-id-3 div.sk-text-repr-fallback {display: none;}</style><div id=\"sk-container-id-3\" class=\"sk-top-container\"><div class=\"sk-text-repr-fallback\"><pre>LogisticRegression(random_state=0)</pre><b>In a Jupyter environment, please rerun this cell to show the HTML representation or trust the notebook. <br />On GitHub, the HTML representation is unable to render, please try loading this page with nbviewer.org.</b></div><div class=\"sk-container\" hidden><div class=\"sk-item\"><div class=\"sk-estimator sk-toggleable\"><input class=\"sk-toggleable__control sk-hidden--visually\" id=\"sk-estimator-id-3\" type=\"checkbox\" checked><label for=\"sk-estimator-id-3\" class=\"sk-toggleable__label sk-toggleable__label-arrow\">LogisticRegression</label><div class=\"sk-toggleable__content\"><pre>LogisticRegression(random_state=0)</pre></div></div></div></div></div>"
      ],
      "text/plain": [
       "LogisticRegression(random_state=0)"
      ]
     },
     "execution_count": 75,
     "metadata": {},
     "output_type": "execute_result"
    }
   ],
   "source": [
    "log = LR(random_state = 0)\n",
    "log.fit(x_train_Actor2,y_train_genre)\n"
   ]
  },
  {
   "cell_type": "code",
   "execution_count": 76,
   "metadata": {},
   "outputs": [
    {
     "name": "stderr",
     "output_type": "stream",
     "text": [
      "c:\\Users\\ardhe\\anaconda3\\Lib\\site-packages\\sklearn\\linear_model\\_logistic.py:460: ConvergenceWarning: lbfgs failed to converge (status=1):\n",
      "STOP: TOTAL NO. of ITERATIONS REACHED LIMIT.\n",
      "\n",
      "Increase the number of iterations (max_iter) or scale the data as shown in:\n",
      "    https://scikit-learn.org/stable/modules/preprocessing.html\n",
      "Please also refer to the documentation for alternative solver options:\n",
      "    https://scikit-learn.org/stable/modules/linear_model.html#logistic-regression\n",
      "  n_iter_i = _check_optimize_result(\n"
     ]
    },
    {
     "data": {
      "text/html": [
       "<style>#sk-container-id-4 {color: black;}#sk-container-id-4 pre{padding: 0;}#sk-container-id-4 div.sk-toggleable {background-color: white;}#sk-container-id-4 label.sk-toggleable__label {cursor: pointer;display: block;width: 100%;margin-bottom: 0;padding: 0.3em;box-sizing: border-box;text-align: center;}#sk-container-id-4 label.sk-toggleable__label-arrow:before {content: \"▸\";float: left;margin-right: 0.25em;color: #696969;}#sk-container-id-4 label.sk-toggleable__label-arrow:hover:before {color: black;}#sk-container-id-4 div.sk-estimator:hover label.sk-toggleable__label-arrow:before {color: black;}#sk-container-id-4 div.sk-toggleable__content {max-height: 0;max-width: 0;overflow: hidden;text-align: left;background-color: #f0f8ff;}#sk-container-id-4 div.sk-toggleable__content pre {margin: 0.2em;color: black;border-radius: 0.25em;background-color: #f0f8ff;}#sk-container-id-4 input.sk-toggleable__control:checked~div.sk-toggleable__content {max-height: 200px;max-width: 100%;overflow: auto;}#sk-container-id-4 input.sk-toggleable__control:checked~label.sk-toggleable__label-arrow:before {content: \"▾\";}#sk-container-id-4 div.sk-estimator input.sk-toggleable__control:checked~label.sk-toggleable__label {background-color: #d4ebff;}#sk-container-id-4 div.sk-label input.sk-toggleable__control:checked~label.sk-toggleable__label {background-color: #d4ebff;}#sk-container-id-4 input.sk-hidden--visually {border: 0;clip: rect(1px 1px 1px 1px);clip: rect(1px, 1px, 1px, 1px);height: 1px;margin: -1px;overflow: hidden;padding: 0;position: absolute;width: 1px;}#sk-container-id-4 div.sk-estimator {font-family: monospace;background-color: #f0f8ff;border: 1px dotted black;border-radius: 0.25em;box-sizing: border-box;margin-bottom: 0.5em;}#sk-container-id-4 div.sk-estimator:hover {background-color: #d4ebff;}#sk-container-id-4 div.sk-parallel-item::after {content: \"\";width: 100%;border-bottom: 1px solid gray;flex-grow: 1;}#sk-container-id-4 div.sk-label:hover label.sk-toggleable__label {background-color: #d4ebff;}#sk-container-id-4 div.sk-serial::before {content: \"\";position: absolute;border-left: 1px solid gray;box-sizing: border-box;top: 0;bottom: 0;left: 50%;z-index: 0;}#sk-container-id-4 div.sk-serial {display: flex;flex-direction: column;align-items: center;background-color: white;padding-right: 0.2em;padding-left: 0.2em;position: relative;}#sk-container-id-4 div.sk-item {position: relative;z-index: 1;}#sk-container-id-4 div.sk-parallel {display: flex;align-items: stretch;justify-content: center;background-color: white;position: relative;}#sk-container-id-4 div.sk-item::before, #sk-container-id-4 div.sk-parallel-item::before {content: \"\";position: absolute;border-left: 1px solid gray;box-sizing: border-box;top: 0;bottom: 0;left: 50%;z-index: -1;}#sk-container-id-4 div.sk-parallel-item {display: flex;flex-direction: column;z-index: 1;position: relative;background-color: white;}#sk-container-id-4 div.sk-parallel-item:first-child::after {align-self: flex-end;width: 50%;}#sk-container-id-4 div.sk-parallel-item:last-child::after {align-self: flex-start;width: 50%;}#sk-container-id-4 div.sk-parallel-item:only-child::after {width: 0;}#sk-container-id-4 div.sk-dashed-wrapped {border: 1px dashed gray;margin: 0 0.4em 0.5em 0.4em;box-sizing: border-box;padding-bottom: 0.4em;background-color: white;}#sk-container-id-4 div.sk-label label {font-family: monospace;font-weight: bold;display: inline-block;line-height: 1.2em;}#sk-container-id-4 div.sk-label-container {text-align: center;}#sk-container-id-4 div.sk-container {/* jupyter's `normalize.less` sets `[hidden] { display: none; }` but bootstrap.min.css set `[hidden] { display: none !important; }` so we also need the `!important` here to be able to override the default hidden behavior on the sphinx rendered scikit-learn.org. See: https://github.com/scikit-learn/scikit-learn/issues/21755 */display: inline-block !important;position: relative;}#sk-container-id-4 div.sk-text-repr-fallback {display: none;}</style><div id=\"sk-container-id-4\" class=\"sk-top-container\"><div class=\"sk-text-repr-fallback\"><pre>LogisticRegression(random_state=0)</pre><b>In a Jupyter environment, please rerun this cell to show the HTML representation or trust the notebook. <br />On GitHub, the HTML representation is unable to render, please try loading this page with nbviewer.org.</b></div><div class=\"sk-container\" hidden><div class=\"sk-item\"><div class=\"sk-estimator sk-toggleable\"><input class=\"sk-toggleable__control sk-hidden--visually\" id=\"sk-estimator-id-4\" type=\"checkbox\" checked><label for=\"sk-estimator-id-4\" class=\"sk-toggleable__label sk-toggleable__label-arrow\">LogisticRegression</label><div class=\"sk-toggleable__content\"><pre>LogisticRegression(random_state=0)</pre></div></div></div></div></div>"
      ],
      "text/plain": [
       "LogisticRegression(random_state=0)"
      ]
     },
     "execution_count": 76,
     "metadata": {},
     "output_type": "execute_result"
    }
   ],
   "source": [
    "log = LR(random_state = 0)\n",
    "log.fit(x_train_Actor3,y_train_genre)\n"
   ]
  },
  {
   "cell_type": "code",
   "execution_count": 88,
   "metadata": {},
   "outputs": [
    {
     "name": "stdout",
     "output_type": "stream",
     "text": [
      "[59 59 59 59 59 59 56 59 59 59 59 59 59 59 59 59 59 59 59 59 59 59 59 59\n",
      "  6 59 59 59 59 59 59 59 59 59 59 59 59 59 59 59 59 59 59 59 59 59 59 59\n",
      " 59 59 59 59 59 59 59 59 59 59 59 59 59 59 59 59 59 59 59 59 59 59 59 59\n",
      " 59 59 59 59 59 59 59 59 59 59 59 59 59  6 59 59 59 59 59 59 59 59 59 59\n",
      " 59 59 59 59 59 59 59 59 59 59 59 59 59  6 59 59 59 59 59 59 59 59 59 59\n",
      " 59 59 59 59 59 59 59 59 59 59 59 59 59 59 59 59 59 59 59 59 59 59 59 59\n",
      " 59 59 59 59 59 59 59 59 59 59 59 59 59 59 59 59 59 59 59 59 59 59 59 59\n",
      " 59 59 59 59 59 59 59 59 59 59 59 59 59 59 59 59 59 59 59 59 59 59 59 59\n",
      " 59 59 59 59 59 59 59 59 59 59 59 59 59 59 59 59 59 59 59 59 59 59 59 59\n",
      " 59 59 59 59 59 59 59 59 59 59 59 59 59 59 59 59 59 59 59 59 59 59 59 59\n",
      " 59 59 59 59 59 59 59 59 59 59 59 59 59 59 59]\n"
     ]
    }
   ],
   "source": [
    "x_test_director = np.array(x_test_director)\n",
    "predicted_survival = print(log.predict(x_test_director))\n"
   ]
  },
  {
   "cell_type": "code",
   "execution_count": 89,
   "metadata": {},
   "outputs": [
    {
     "name": "stdout",
     "output_type": "stream",
     "text": [
      "[59 59 56 59 59 59 59 59 59 59 59 59 59 59 59 59 59 59 59 59 59 59 59 59\n",
      "  6 59 59 59 59 59 59 59 59 59 59 59 59 59 59 59 59 59 59 59 59 59 59 59\n",
      " 59 59 59 59 59 59 59 59 59 59 59 59 59 59 59 59 59 59 59 59 59 59 59 59\n",
      " 59 59 59 59 59 59 59 59 59 59 59 59 59 59 59 59 59 59 59 59 59 59 59 59\n",
      " 59 59 59 59 59 59 59 59 59 59 59 59 59 59 59 59 59 59 59 59 59 59 59 59\n",
      " 59 59 59 59 59 59 59 59 59 59 59 59 59 59 59 59 59 59 59 59 59 59 59 59\n",
      " 59 59 59 56 59 59 59 59 59 59 59 59 59 59 59 59 59 59 59 59 59 59 59 59\n",
      " 59 59 59 59 59 59 59 56 59 59 59 59 59 59 59 59 59 59 59 59 59 59 59 59\n",
      " 59 59 59 59 59 59 59 59 59 59 59 59 59 59 59 59 59 59 59 59 59 59 59 59\n",
      " 59 59 59 59 59 59 59 59 59 59 59 59 59 59 59 59 59 59 59 59 59 59 59 59\n",
      " 59 59 59 59 59 59 59 59 59 59 59 59 59 59 59]\n"
     ]
    }
   ],
   "source": [
    "x_test_Actor1 = np.array(x_test_Actor1)\n",
    "predicted_survival = print(log.predict(x_test_Actor1))\n"
   ]
  },
  {
   "cell_type": "code",
   "execution_count": 90,
   "metadata": {},
   "outputs": [
    {
     "name": "stdout",
     "output_type": "stream",
     "text": [
      "[59 59 56 59 59 59 59 59 59 59 59 59 59 59 59 59 59 59 59 59 59 59 59 59\n",
      " 59 59 59 59 59 59 59 59 59 59 59 56 59 59 59 59 59 59 59 59 59 59 59 59\n",
      " 59 59 59 59 59 59 59 59 59 59 59 59 59 59 59 59 59 59 59 59 59 59 59 59\n",
      " 59 59 59 59 59 59 59 59 59 59 59 59 59  6 59 59 59 59 59 59 59 59 59 59\n",
      " 59 59 59 59 59 59 59 59 59 59 59 59 59 59 59 59 59 59 59 59 59 59 59 59\n",
      " 59 59 59 59 59 59 59 59 59 59 59 59 59 59 59 59 59 59 59 59 59 59 59 59\n",
      " 59 59 59 59 59 59 59 59 59 59 59 59 59 59 59 59 59 59 59 59 59 59 59 59\n",
      " 59 56 59 59 59 59 59 59 59 59 59 59 59 59 59 59 59 59 59 59 59 59 59 59\n",
      " 59 59 59 59 59 59 59 59 59 59 59 59 59 59 59 59 59 59 59 59 59 59 59 59\n",
      " 59 59 59 59 59 59 59 59 59 59 59 59 59 59 59 59 59 59 59 59 59 59 59 59\n",
      " 59 59 59 59 59 59 59 59 59 59 59 59 59 59 59]\n"
     ]
    }
   ],
   "source": [
    "x_test_Actor2 = np.array(x_test_Actor2)\n",
    "predicted_survival = print(log.predict(x_test_Actor2))\n",
    "\n"
   ]
  },
  {
   "cell_type": "code",
   "execution_count": 91,
   "metadata": {},
   "outputs": [
    {
     "name": "stdout",
     "output_type": "stream",
     "text": [
      "[59 59 59 59 59 59 59 59 59 59 59 59 56 59 59 59 59 59 59 59 59 59 59 59\n",
      " 59  6 59 59 59 59 59 59 59 59 59 59 59 59 59 59 59 59 59 59 59 59 59 59\n",
      " 59 59 59 59 59 59 59 59 59 59 59 59 59 59 59 59 59 56 59 59 59 59 59 59\n",
      " 59 59 59 59 59 59 59 59 59 59 59 59 59 59 59 59 59 59 59 59 59 59 59 59\n",
      " 59 59 59 59 59 59 59 59 59 59 59 59 59 59 59 59 59 59 59 59  6 59 59 59\n",
      " 59 59 59 59 59 59 59 59 59 59 59 59 59 59 59 59 59 59 59 59 59 59 59 59\n",
      " 59 59 59 59 59 59 59 59 59 59 59 59 59 59 59 59 59 59 59 59 59 59 59 59\n",
      " 59 59 59 59 59 59 59 59 59 59 59 59 59 59 59 59 59 59 59 59 59 59 59 59\n",
      " 59 59 59 59 59 59 59 59 59 59 59 59 59 59 59 59 59 59 59 59 59 59 59 59\n",
      " 59 59 59 59 59 59 59 59 59 59 59 59 59 59 59 59 59 59 59 59 59 59 59 59\n",
      " 59 59 59 59 59 59 59 59 59 59 59 59 59 59 59]\n"
     ]
    }
   ],
   "source": [
    "x_test_Actor3 = np.array(x_test_Actor3)\n",
    "predicted_survival = print(log.predict(x_test_Actor3))\n",
    "\n",
    "\n"
   ]
  },
  {
   "cell_type": "code",
   "execution_count": 80,
   "metadata": {},
   "outputs": [
    {
     "name": "stdout",
     "output_type": "stream",
     "text": [
      "     Director  Genre\n",
      "90        235    100\n",
      "107       154     95\n",
      "295       305     99\n",
      "276        92     18\n",
      "208        25     34\n",
      "..        ...    ...\n",
      "343       272     48\n",
      "34         24      7\n",
      "414       175     60\n",
      "379       418    100\n",
      "360       103     14\n",
      "\n",
      "[255 rows x 2 columns]\n",
      "90     59\n",
      "107    59\n",
      "295    21\n",
      "276    14\n",
      "208    59\n",
      "       ..\n",
      "343    35\n",
      "34     15\n",
      "414    59\n",
      "379    59\n",
      "360    59\n",
      "Name: Rating, Length: 255, dtype: int64\n"
     ]
    }
   ],
   "source": [
    "print(x_test_director)\n",
    "print(y_test_genre)"
   ]
  },
  {
   "cell_type": "code",
   "execution_count": 82,
   "metadata": {},
   "outputs": [
    {
     "name": "stdout",
     "output_type": "stream",
     "text": [
      "     Actor 1  Genre\n",
      "90       357    100\n",
      "107      357     95\n",
      "295        3     99\n",
      "276        9     18\n",
      "208       19     34\n",
      "..       ...    ...\n",
      "343      311     48\n",
      "34       124      7\n",
      "414      100     60\n",
      "379      219    100\n",
      "360      339     14\n",
      "\n",
      "[255 rows x 2 columns]\n",
      "90     59\n",
      "107    59\n",
      "295    21\n",
      "276    14\n",
      "208    59\n",
      "       ..\n",
      "343    35\n",
      "34     15\n",
      "414    59\n",
      "379    59\n",
      "360    59\n",
      "Name: Rating, Length: 255, dtype: int64\n"
     ]
    }
   ],
   "source": [
    "print(x_test_Actor1)\n",
    "print(y_test_genre)"
   ]
  },
  {
   "cell_type": "code",
   "execution_count": 83,
   "metadata": {},
   "outputs": [
    {
     "name": "stdout",
     "output_type": "stream",
     "text": [
      "     Actor 2  Genre\n",
      "90       368    100\n",
      "107      368     95\n",
      "295        2     99\n",
      "276      153     18\n",
      "208      338     34\n",
      "..       ...    ...\n",
      "343       34     48\n",
      "34        19      7\n",
      "414      226     60\n",
      "379      189    100\n",
      "360      143     14\n",
      "\n",
      "[255 rows x 2 columns]\n",
      "90     59\n",
      "107    59\n",
      "295    21\n",
      "276    14\n",
      "208    59\n",
      "       ..\n",
      "343    35\n",
      "34     15\n",
      "414    59\n",
      "379    59\n",
      "360    59\n",
      "Name: Rating, Length: 255, dtype: int64\n"
     ]
    }
   ],
   "source": [
    "print(x_test_Actor2)\n",
    "print(y_test_genre)"
   ]
  },
  {
   "cell_type": "code",
   "execution_count": 84,
   "metadata": {},
   "outputs": [
    {
     "name": "stdout",
     "output_type": "stream",
     "text": [
      "     Actor 3  Genre\n",
      "90       358    100\n",
      "107      358     95\n",
      "295       93     99\n",
      "276      228     18\n",
      "208      192     34\n",
      "..       ...    ...\n",
      "343      257     48\n",
      "34       200      7\n",
      "414      297     60\n",
      "379      358    100\n",
      "360       89     14\n",
      "\n",
      "[255 rows x 2 columns]\n",
      "90     59\n",
      "107    59\n",
      "295    21\n",
      "276    14\n",
      "208    59\n",
      "       ..\n",
      "343    35\n",
      "34     15\n",
      "414    59\n",
      "379    59\n",
      "360    59\n",
      "Name: Rating, Length: 255, dtype: int64\n"
     ]
    }
   ],
   "source": [
    "print(x_test_Actor3)\n",
    "print(y_test_genre)"
   ]
  },
  {
   "cell_type": "code",
   "execution_count": 92,
   "metadata": {},
   "outputs": [
    {
     "name": "stdout",
     "output_type": "stream",
     "text": [
      "232    20\n",
      "133    38\n",
      "33     16\n",
      "484    59\n",
      "44     59\n",
      "       ..\n",
      "323    28\n",
      "192    59\n",
      "117    59\n",
      "47     38\n",
      "172    24\n",
      "Name: Rating, Length: 254, dtype: int64\n"
     ]
    }
   ],
   "source": [
    "print(y_train_Rating)"
   ]
  },
  {
   "cell_type": "code",
   "execution_count": 93,
   "metadata": {},
   "outputs": [
    {
     "name": "stdout",
     "output_type": "stream",
     "text": [
      "90     59\n",
      "107    59\n",
      "295    21\n",
      "276    14\n",
      "208    59\n",
      "       ..\n",
      "343    35\n",
      "34     15\n",
      "414    59\n",
      "379    59\n",
      "360    59\n",
      "Name: Rating, Length: 255, dtype: int64\n"
     ]
    }
   ],
   "source": [
    "print(y_test_rating)"
   ]
  }
 ],
 "metadata": {
  "kernelspec": {
   "display_name": "base",
   "language": "python",
   "name": "python3"
  },
  "language_info": {
   "codemirror_mode": {
    "name": "ipython",
    "version": 3
   },
   "file_extension": ".py",
   "mimetype": "text/x-python",
   "name": "python",
   "nbconvert_exporter": "python",
   "pygments_lexer": "ipython3",
   "version": "3.11.5"
  }
 },
 "nbformat": 4,
 "nbformat_minor": 2
}
